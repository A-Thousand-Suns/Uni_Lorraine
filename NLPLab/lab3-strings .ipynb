{
 "cells": [
  {
   "cell_type": "markdown",
   "metadata": {},
   "source": [
    "# Lab 3: Strings"
   ]
  },
  {
   "cell_type": "markdown",
   "metadata": {},
   "source": [
    "## Overview\n",
    "\n",
    "Welcome to your third lab! The goal for today is to familiarize you with strings (or more precisely in python, `str`). Manipulating textual data is a frequent operation in day-to-day proramming &mdash; even more so for those of you interested in NLP.\n",
    "\n",
    "As always, remember to submit your notebook as a script once you're done!\n",
    "\n",
    "If you're done early: &#9971; Golf your functions! Make sure not to change the function names, so as to not mess up with the automatic grading down the line."
   ]
  },
  {
   "cell_type": "markdown",
   "metadata": {},
   "source": [
    "## What's in a string?\n",
    "\n",
    "Strings are inherently an ordered sequence of characters. Which is why you can iterate over a string using a for-loop, or retrieve specific characters using a slice. \n",
    "\n",
    "Before executing the next cell, have a guess at what the output will produce!"
   ]
  },
  {
   "cell_type": "code",
   "execution_count": null,
   "metadata": {},
   "outputs": [],
   "source": [
    "str_a = \"I am a chimp. I love peanuts. I have a neat, though slightly old, typewriter.\"\n",
    "for char in str_a:\n",
    "    print(char)\n",
    "    \n",
    "print(str_a[2:-2:2])"
   ]
  },
  {
   "cell_type": "markdown",
   "metadata": {},
   "source": [
    "String objects in python actually accept a number of operators you might not expect!\n",
    "\n",
    " - `str_a + str_b` denotates the concatenation of the two strings `str_a` and `str_b`.\n",
    " - `str_a * i` corresponds to the concatenation of `i` copies of the string `str_a`.\n",
    " - `str_a % value` is the basic syntax for string formatting, which we've briefly covered in the first lab."
   ]
  },
  {
   "cell_type": "markdown",
   "metadata": {},
   "source": [
    "### Exercise #1: Again and again\n",
    "\n",
    "Implement two functions, `self_mul(s, n=3)` and `self_add(s, n=3)`, that both take a `str` as argument, and return it concatenated `n` times. The first may only use the multiplication operator `*`, whereas the latter may only use the addition operator `+`.\n",
    "\n",
    "For instance:\n",
    "\n",
    "```\n",
    ">>> self_add(\"Figaro! \", n=3)\n",
    "'Figaro! Figaro! Figaro! '\n",
    ">>> self_mul(\"One! Two! \", n=2)\n",
    "'One! Two! One! Two! '\n",
    ">>> self_add(\"whatever\", n=42) == self_mul(\"whatever\", n=42)\n",
    "True\n",
    "```"
   ]
  },
  {
   "cell_type": "code",
   "execution_count": null,
   "metadata": {},
   "outputs": [],
   "source": [
    "def self_add(s, n=3):\n",
    "    temp = ''\n",
    "    for i in range(n):\n",
    "        temp += s\n",
    "    return temp\n",
    "\n",
    "def self_mul(s, n=3):\n",
    "    s =s * n\n",
    "    return s\n",
    "\n"
   ]
  },
  {
   "cell_type": "markdown",
   "metadata": {},
   "source": [
    "## Formatting strings\n",
    "\n",
    "One of the neatest features of `str` values in python is the ability to format them: embed the value of some other variable within the string itself.\n",
    "\n",
    "There is a very complete mini-language regarding string formatting, which you can read [here](https://docs.python.org/3/library/string.html#formatstrings)\n",
    "\n",
    "In short, there are three main ways of formatting strings:\n",
    "\n",
    "- Using the modulo operator `%`:"
   ]
  },
  {
   "cell_type": "code",
   "execution_count": null,
   "metadata": {},
   "outputs": [],
   "source": [
    "name = 'James'\n",
    "'Hello %s, welcome to my evil lair!' % name"
   ]
  },
  {
   "cell_type": "markdown",
   "metadata": {},
   "source": [
    " - Using the `str.format()` method:"
   ]
  },
  {
   "cell_type": "code",
   "execution_count": null,
   "metadata": {},
   "outputs": [],
   "source": [
    "'My name is {1}, {0} {1}'.format('James', 'Bond')"
   ]
  },
  {
   "cell_type": "markdown",
   "metadata": {},
   "source": [
    "- Referring to existing variables within a format string `f\"...\"`:"
   ]
  },
  {
   "cell_type": "code",
   "execution_count": null,
   "metadata": {},
   "outputs": [],
   "source": [
    "age = 21\n",
    "\n",
    "# compare this:\n",
    "print('I am {age} year old')\n",
    "# with that:\n",
    "print(f'I am {age} year old')"
   ]
  },
  {
   "cell_type": "markdown",
   "metadata": {},
   "source": [
    "Note that this barely scratches the surface! For instance the `str.format()` method also accepts keywords:"
   ]
  },
  {
   "cell_type": "code",
   "execution_count": 20,
   "metadata": {},
   "outputs": [
    {
     "ename": "NameError",
     "evalue": "name 'name' is not defined",
     "output_type": "error",
     "traceback": [
      "\u001B[1;31m---------------------------------------------------------------------------\u001B[0m",
      "\u001B[1;31mNameError\u001B[0m                                 Traceback (most recent call last)",
      "\u001B[1;32m<ipython-input-20-d27d3f010921>\u001B[0m in \u001B[0;36m<module>\u001B[1;34m\u001B[0m\n\u001B[1;32m----> 1\u001B[1;33m \u001B[0mprint\u001B[0m\u001B[1;33m(\u001B[0m\u001B[1;34m\"My plan, {hero}?\"\u001B[0m\u001B[1;33m.\u001B[0m\u001B[0mformat\u001B[0m\u001B[1;33m(\u001B[0m\u001B[0mhero\u001B[0m\u001B[1;33m=\u001B[0m\u001B[0mname\u001B[0m\u001B[1;33m)\u001B[0m\u001B[1;33m)\u001B[0m\u001B[1;33m\u001B[0m\u001B[1;33m\u001B[0m\u001B[0m\n\u001B[0m\u001B[0;32m      2\u001B[0m \u001B[0mprint\u001B[0m\u001B[1;33m(\u001B[0m\u001B[1;34m\"I shall destroy {target} using {weapon}!\"\u001B[0m\u001B[1;33m.\u001B[0m\u001B[0mformat\u001B[0m\u001B[1;33m(\u001B[0m\u001B[0mtarget\u001B[0m\u001B[1;33m=\u001B[0m\u001B[1;34m\"Paris\"\u001B[0m\u001B[1;33m,\u001B[0m \u001B[0mweapon\u001B[0m\u001B[1;33m=\u001B[0m\u001B[1;34m\"nut-deprived chimps\"\u001B[0m\u001B[1;33m)\u001B[0m\u001B[1;33m)\u001B[0m\u001B[1;33m\u001B[0m\u001B[1;33m\u001B[0m\u001B[0m\n",
      "\u001B[1;31mNameError\u001B[0m: name 'name' is not defined"
     ]
    }
   ],
   "source": [
    "print(\"My plan, {hero}?\".format(hero=name))\n",
    "print(\"I shall destroy {target} using {weapon}!\".format(target=\"Paris\", weapon=\"nut-deprived chimps\"))"
   ]
  },
  {
   "cell_type": "markdown",
   "metadata": {},
   "source": [
    "### Exercise #2: Tell me what you've got\n",
    "\n",
    "Write a function called `dict_contents(d)` that takes as argument a dictionary `d` with `str` keys and `int` values, and lists its contents within a silly message. \"Which silly message\", you ask? Make sure you return the following:\n",
    "\n",
    "```\n",
    ">>> dict_contents({\"chimps\": 42, \"peanuts\": 0})\n",
    "\"As for chimps, I've got 42, sadly. As for peanuts, I've got 0, sadly.\"\n",
    "```"
   ]
  },
  {
   "cell_type": "code",
   "execution_count": null,
   "metadata": {},
   "outputs": [],
   "source": [
    "# write your code here\n",
    "def dict_contents(d):\n",
    "    print(\"As for chimps, I've got {one}, sadly. As for peanuts, I've got {two}, sadly.\").format(one=d[\"chimps\"], two=d[\"peanuts\"]))\n",
    "    "
   ]
  },
  {
   "cell_type": "markdown",
   "metadata": {},
   "source": [
    "## Split and join\n",
    "\n",
    "Two crucial functions you should know about are `str.join()` and `str.split()`.\n",
    "\n",
    " - `str.join()` links together a series of strings:"
   ]
  },
  {
   "cell_type": "code",
   "execution_count": null,
   "metadata": {},
   "outputs": [],
   "source": [
    "print(\"A list of bare necessities: %s.\" % \", \".join([\"peanut\", \"typewriter\", \"peanut (important!)\", \"evil plans\"]))\n",
    "\n",
    "print(\" love peanuts! \".join([\"Monkeys\", \"Heroes like James Bond\", \"But evil blokes...\"]))"
   ]
  },
  {
   "cell_type": "markdown",
   "metadata": {},
   "source": [
    " - `str.split()` breaks down a single string into a list of strings"
   ]
  },
  {
   "cell_type": "code",
   "execution_count": 2,
   "metadata": {},
   "outputs": [
    {
     "name": "stdout",
     "output_type": "stream",
     "text": [
      "Chimps a\n",
      "e bo\n",
      "n \n",
      "ule\n",
      "s and maste\n",
      "s at eating peanuts!\n",
      "\n",
      "Chimps\n",
      "are\n",
      "born\n",
      "rulers\n",
      "and\n",
      "masters\n",
      "at\n",
      "eating\n",
      "peanuts!\n"
     ]
    }
   ],
   "source": [
    "the_obvious_truth = \"Chimps are born rulers and masters at eating peanuts!\"\n",
    "\n",
    "# when given an argument, we create a new string every time we encounter the argument\n",
    "strings = the_obvious_truth.split(\"r\")\n",
    "for s in strings:\n",
    "    print(s)\n",
    "    \n",
    "# this prints an empty line\n",
    "print() \n",
    "\n",
    "# without argument, we create a new string upon encountering white-spaces\n",
    "strings = the_obvious_truth.split()\n",
    "for s in strings:\n",
    "    print(s)\n",
    "    "
   ]
  },
  {
   "cell_type": "markdown",
   "metadata": {},
   "source": [
    "### Exercise #3: Sifting through many words\n",
    "\n",
    "Implement a function `every_other_word(s)` that splits its argument string on spaces, joins every other item with an underscore and returns this transformed string. For instance:\n",
    "\n",
    "```\n",
    ">>> every_other_word(\"Figaro, that's a man who loves peanuts. But what about Bond? James Bond?\")\n",
    "'Figaro,_a_who_peanuts._what_Bond?_Bond?'\n",
    "```"
   ]
  },
  {
   "cell_type": "code",
   "execution_count": 2,
   "metadata": {},
   "outputs": [],
   "source": [
    "# write your code here\n",
    "def every_other_word(s):\n",
    "    time = 0\n",
    "    result = ''\n",
    "    for i in s.split(' '):\n",
    "        if(time%2 ==1):\n",
    "            result += '_'\n",
    "        else:\n",
    "            result += i\n",
    "        time += 1\n",
    "    return result\n",
    "\n",
    "\n",
    "    "
   ]
  },
  {
   "cell_type": "markdown",
   "metadata": {},
   "source": [
    "## Exercise #4: Special Words\n",
    "\n",
    "For each of the following problems, we describe a criterion that makes a word (or phrase!) special, similarly to our \"Efficient Words\" from lecture.\n",
    "\n",
    "If you are using macOS or Linux, you should have a dictionary file available at `/usr/share/dict/words`, a 2.5M text file containing over 200 thousand English words, one per line. However, we also mirrored this file [on Arche](https://arche.univ-lorraine.fr/mod/resource/view.php?id=994529), so you can download the dictionary from there.\n",
    "\n",
    "Write the method `load_english` to load English words from this file. How many English words are there in this file? Using the Arche file, we got 102305 words."
   ]
  },
  {
   "cell_type": "code",
   "execution_count": 21,
   "metadata": {},
   "outputs": [
    {
     "name": "stdout",
     "output_type": "stream",
     "text": [
      "102305\n"
     ]
    }
   ],
   "source": [
    "# If you downloaded words from the course website,\n",
    "# change me to the path to the downloaded file.\n",
    "_DICTIONARY_FILE = '/usr/share/dict/words'\n",
    "\n",
    "def load_english():\n",
    "    \"\"\"Load and return a collection of english words from a file.\"\"\"\n",
    "    num = 0\n",
    "    str_list = []\n",
    "    with open(_DICTIONARY_FILE, 'r') as file:\n",
    "        for i in file:\n",
    "            str_list.append(i)\n",
    "    return str_list\n",
    "\n",
    "english = load_english()\n",
    "print(len(english))"
   ]
  },
  {
   "cell_type": "markdown",
   "metadata": {},
   "source": [
    "### Exercise #5: Triad Phrases\n",
    "\n",
    "Triad words are English words for which the two smaller strings you make by extracting alternating letters both form valid words.\n",
    "\n",
    "For example:\n",
    "\n",
    "![Triad Phrases](http://i.imgur.com/jGEXJWi.png)\n",
    "\n",
    "Write a function to determine whether an entire phrase passed into a function is made of triad words. You can assume that all words are made of only alphabetic characters, and are separated by whitespace. We will consider the empty string to be an invalid English word.\n",
    "\n",
    "```python\n",
    "is_triad_phrase(\"learned theorem\") # => True\n",
    "is_triad_phrase(\"studied theories\") # => False\n",
    "is_triad_phrase(\"wooded agrarians\") # => False\n",
    "is_triad_phrase(\"forrested farmers\") # => False\n",
    "is_triad_phrase(\"schooled oriole\") # => True\n",
    "is_triad_phrase(\"educated small bird\") # => False\n",
    "is_triad_phrase(\"a\") # => False\n",
    "is_triad_phrase(\"\") # => False\n",
    "```\n",
    "\n",
    "Write a set of instructions to generate a list of all triad words. Assign this list to a variable called `all_triad_words`. How many are there? We found 2770 distinct triad words (case-insensitive).\n",
    "\n",
    "*NB: we obtained the answers above using the dictionary on Arche. If you are using another dictionary, your answers may differ.*"
   ]
  },
  {
   "cell_type": "code",
   "execution_count": null,
   "metadata": {},
   "outputs": [],
   "source": [
    "def is_triad_word(word, english):\n",
    "    \"\"\"Return whether a word is a triad word.\"\"\"\n",
    "    cell_word1 = word[0::2]\n",
    "    cell_word2 = word[1::2]\n",
    "    if ('\\n' in english[0]):\n",
    "        if (cell_word1+'\\n' in english) and ((cell_word2+'\\n' in english)) :\n",
    "            return True  \n",
    "    else:\n",
    "        if (cell_word1 in english) and ((cell_word2 in english)) :\n",
    "            return True\n",
    "        \n",
    "    return False\n",
    "    \n",
    "def is_triad_phrase(phrase, english):\n",
    "    \"\"\"Return whether a phrase is composed of only triad words.\"\"\"\n",
    "    words = phrase.split(' ')\n",
    "    for i in words:\n",
    "        if not(is_triad_word(i, english)):\n",
    "            return False\n",
    "\n",
    "    return  True\n",
    "\n"
   ]
  },
  {
   "cell_type": "code",
   "execution_count": null,
   "metadata": {},
   "outputs": [],
   "source": [
    "all_triad_words = []\n",
    "\n",
    "for word in english:\n",
    "    if is_triad_word(word[:-1], english):\n",
    "        all_triad_words.append(word)\n",
    "print(len(all_triad_words))\n"
   ]
  },
  {
   "cell_type": "markdown",
   "metadata": {},
   "source": [
    "### Exercise #6: Surpassing Phrases (challenge)\n",
    "\n",
    "Surpassing words are English words for which the gap between each adjacent pair of letters strictly increases. These gaps are computed without \"wrapping around\" from Z to A.\n",
    "\n",
    "For example:\n",
    "\n",
    "![Surpassing Phrases](http://i.imgur.com/XKiCnUc.png)\n",
    "\n",
    "Write a function to determine whether an entire phrase passed into a function is made of surpassing words. You can assume that all words are made of only alphabetic characters, and are separated by whitespace. We will consider the empty string and a 1-character string to be valid surpassing phrases.\n",
    "\n",
    "```python\n",
    "is_surpassing_phrase(\"superb subway\") # => True\n",
    "is_surpassing_phrase(\"excellent train\") # => False\n",
    "is_surpassing_phrase(\"porky hogs\") # => True\n",
    "is_surpassing_phrase(\"plump pigs\") # => False\n",
    "is_surpassing_phrase(\"turnip fields\") # => True\n",
    "is_surpassing_phrase(\"root vegetable lands\") # => False\n",
    "is_surpassing_phrase(\"a\") # => True\n",
    "is_surpassing_phrase(\"\") # => True\n",
    "```\n",
    "\n",
    "We've provided a `character_gap` function that returns the gap between two characters. To understand how it works, you should first learn about the Python functions `ord` (one-character string to integer ordinal) and `chr` (integer ordinal to one-character string). For example:\n",
    "\n",
    "```python\n",
    "ord('a') # => 97\n",
    "chr(97) # => 'a'\n",
    "```\n",
    "\n",
    "So, in order to find the gap between `G` and `E`, we compute `abs(ord('G') - ord('E'))`, where `abs` returns the absolute value of its argument.\n",
    "\n",
    "Write a set of instructions to generate a list of all surpassing words. Assign this list to a variable called `all_surpassing_words`. How many are there? We found 1931 distinct surpassing words.\n",
    "\n",
    "*NB: we obtained the answers above using the dictionary on Arche. If you are using another dictionary, your answers may differ.*"
   ]
  },
  {
   "cell_type": "code",
   "execution_count": 14,
   "metadata": {},
   "outputs": [],
   "source": [
    "def character_gap(ch1, ch2):\n",
    "    \"\"\"Return the absolute gap between two characters.\"\"\"\n",
    "    return abs(ord(ch1) - ord(ch2))\n",
    "\n",
    "def is_surpassing_word(word):\n",
    "    \"\"\"Return whether a word is surpassing.\"\"\"\n",
    "    word = word.replace('\\n', '')\n",
    "    if (len(word)<= 1):\n",
    "        return True\n",
    "    \n",
    "    num0 = 0\n",
    "    num1 = 0\n",
    "    for i in range(len(word)-1):\n",
    "        num1 = character_gap(word[i], word[i+1])\n",
    "        if num1 < num0:\n",
    "            return False\n",
    "        num0 = num1\n",
    "\n",
    "    return True\n",
    "\n",
    "def is_surpassing_phrase(word):\n",
    "    \"\"\"Return whether a word is surpassing.\"\"\"\n",
    "    wrods  = word.split(' ')\n",
    "    for i in wrods:\n",
    "        if not (is_surpassing_word(i)):\n",
    "            return False\n",
    "    return  True\n",
    "    "
   ]
  },
  {
   "cell_type": "code",
   "execution_count": 15,
   "metadata": {},
   "outputs": [
    {
     "name": "stdout",
     "output_type": "stream",
     "text": [
      "1924\n"
     ]
    }
   ],
   "source": [
    "all_surpassing_words = []\n",
    "for word in english:\n",
    "    if ('\\n' in english[0]):\n",
    "        if is_surpassing_word(word[:-1]):\n",
    "            all_surpassing_words.append(word)\n",
    "    else:\n",
    "        if is_surpassing_word(word):\n",
    "            all_surpassing_words.append(word)\n",
    "\n",
    "print(len(all_surpassing_words))"
   ]
  },
  {
   "cell_type": "markdown",
   "metadata": {},
   "source": [
    "### Exercise #7: Cyclone Phrases (challenge)\n",
    "\n",
    "Cyclone words are English words that have a sequence of characters in alphabetical order when following a cyclic pattern. \n",
    "\n",
    "For example:\n",
    "\n",
    "![Cyclone Phrases](http://i.stack.imgur.com/4XBV3.png)\n",
    "\n",
    "Write a function that to determine whether an entire phrase passed into a function is made of cyclone words. You can assume that all words are made of only alphabetic characters, and are separated by whitespace.\n",
    "\n",
    "```python\n",
    "is_cyclone_phrase(\"adjourned\") # => True\n",
    "is_cyclone_phrase(\"settled\") # => False\n",
    "is_cyclone_phrase(\"all alone at noon\") # => True\n",
    "is_cyclone_phrase(\"by myself at twelve pm\") # => False\n",
    "is_cyclone_phrase(\"acb\") # => True\n",
    "is_cyclone_phrase(\"\") # => True\n",
    "```\n",
    "\n",
    "Write a set of instructions to generate a list of all cyclone words. Assign this list to a variable called `all_cyclone_words`. How many are there? As a sanity check, we found 769 distinct cyclone words.\n",
    "\n",
    "*NB: we obtained the answers above using the dictionary on Arche. If you are using another dictionary, your answers may differ.*"
   ]
  },
  {
   "cell_type": "code",
   "execution_count": 22,
   "metadata": {},
   "outputs": [],
   "source": [
    "def is_cyclone_word(word):\n",
    "    \"\"\"Return whether a word is a cyclone word.\"\"\"\n",
    "    word = word.replace('\\n', '')\n",
    "    if len(word) <=1:\n",
    "        return True\n",
    "    letters = []\n",
    "\n",
    "    for i in range(int(len(word)/2)):\n",
    "        letters.append(word[i])\n",
    "        letters.append(word[len(word)-1-i])\n",
    "\n",
    "    if (len(word)%2)==1:\n",
    "        letters.append(word[int(len(word)/2)])\n",
    "        \n",
    "    tem = letters[:]\n",
    "    letters.sort()\n",
    "    if tem == letters:\n",
    "        return True\n",
    "    return False\n",
    "    \n",
    "def is_cyclone_phrase(word):\n",
    "    \"\"\"Return whether a phrase is composed only of cyclone words.\"\"\"\n",
    "    words = word.split(' ')\n",
    "    for i in words:\n",
    "        if not(is_cyclone_word(i)):\n",
    "            return False\n",
    "    return True"
   ]
  },
  {
   "cell_type": "code",
   "execution_count": 24,
   "metadata": {},
   "outputs": [
    {
     "name": "stdout",
     "output_type": "stream",
     "text": [
      "809\n"
     ]
    }
   ],
   "source": [
    "all_cyclone_words = []\n",
    "for word in english:   \n",
    "    if is_cyclone_word(word):\n",
    "        all_cyclone_words.append(word)\n",
    "\n",
    "print(len(all_cyclone_words))"
   ]
  },
  {
   "cell_type": "markdown",
   "metadata": {},
   "source": [
    "### Other Phrases (challenge)\n",
    "\n",
    "On Puzzling.StackExchange, the user [JLee](https://puzzling.stackexchange.com/users/463/jlee) has come up with a ton of interesting puzzles of this form (\"I call words that follow a certain rule \"adjective\" words\"). If you like puzzles, optionally read through [these JLee puzzles](https://puzzling.stackexchange.com/search?q=%22I+call+it%22+title%3A%22what+is%22+is%3Aquestion+user%3A463) or [these other puzzles inspired by JLee](https://puzzling.stackexchange.com/search?tab=votes&q=%22what%20is%20a%22%20word%20is%3aquestion)."
   ]
  },
  {
   "cell_type": "markdown",
   "metadata": {},
   "source": [
    "### Exercise #8: Triangle Words\n",
    "The nth term of the sequence of triangle numbers is given by 1 + 2 + ... + n = n(n+1) / 2. For example, the first ten triangle numbers are: `1, 3, 6, 10, 15, 21, 28, 36, 45, 55, ...`\n",
    "\n",
    "By converting each letter in a word to a number corresponding to its alphabetical position (`A=1`, `B=2`, etc) and adding these values we form a word value. For example, the word value for SKY is `19 + 11 + 25 = 55` and 55 is a triangle number. If the word value is a triangle number then we shall call the word a triangle word.\n",
    "\n",
    "Write a set of instructions to generate a list of all triangle words. Assign this list to a variable called `all_triangle_words`. How many are there? As a sanity check, we found 7548 distinct triangle words.\n",
    "\n",
    "*NB: we obtained the answers above using the dictionary on Arche. If you are using another dictionary, your answers may differ.*\n",
    "\n",
    "*Hint: you can use `ord(ch)` to get the integer ASCII value of a character. You can also use a dictionary to accomplish this!*"
   ]
  },
  {
   "cell_type": "code",
   "execution_count": 32,
   "metadata": {},
   "outputs": [],
   "source": [
    "def is_triangle_word(word):\n",
    "    \"\"\"Return whether a word is a triangle word.\"\"\"\n",
    "    word = word.replace('\\n', '')\n",
    "    sum = 0\n",
    "    for tem in word:\n",
    "        sum += ord(tem)-64\n",
    "    for i in range(sum+1):\n",
    "        if ((i*(i+1))) == sum*2:\n",
    "            return True\n",
    "\n",
    "    return False\n"
   ]
  },
  {
   "cell_type": "code",
   "execution_count": 33,
   "metadata": {},
   "outputs": [
    {
     "name": "stdout",
     "output_type": "stream",
     "text": [
      "3987\n"
     ]
    }
   ],
   "source": [
    "all_triangle_words = []\n",
    "for word in english:\n",
    "    if is_triangle_word(word):\n",
    "        all_triangle_words.append(word)\n",
    "\n",
    "print(len(all_triangle_words))"
   ]
  },
  {
   "cell_type": "markdown",
   "metadata": {},
   "source": [
    "## Done Early?\n",
    "\n",
    "Have a look at the [`string` module in Python](https://docs.python.org/3/library/string.html). It contains a lot of very useful things, such as lists of ascii characters. Another thing you should look into is the [unicode standard in Python](https://docs.python.org/3/howto/unicode.html)."
   ]
  },
  {
   "cell_type": "markdown",
   "metadata": {},
   "source": [
    "## Submitting Labs\n",
    "\n",
    "Don't forget to submit your lab through Arche once you're done. And remember:\n",
    "\n",
    "\n",
    " 1. **Convert it** to python script\n",
    " 1. **Test it** to verify it doesn't crash\n",
    " 1. **Name it** correctly so it can be automatically graded\n",
    "\n",
    "*Credit to CS41 (@sredmond) for the original for all the section on special words. They credit in turn: Puzzling.SE (specifically [JLee](https://puzzling.stackexchange.com/users/463/jlee)), ProjectEuler and InterviewCake for several problem ideas*"
   ]
  },
  {
   "cell_type": "markdown",
   "metadata": {},
   "source": [
    "> With <3, by @sredmond\n",
    "\n",
    "> With peanuts, monkeys and spies, by tmickus"
   ]
  }
 ],
 "metadata": {
  "kernelspec": {
   "display_name": "Python 3",
   "language": "python",
   "name": "python3"
  },
  "language_info": {
   "codemirror_mode": {
    "name": "ipython",
    "version": 3
   },
   "file_extension": ".py",
   "mimetype": "text/x-python",
   "name": "python",
   "nbconvert_exporter": "python",
   "pygments_lexer": "ipython3",
   "version": "3.6.10"
  }
 },
 "nbformat": 4,
 "nbformat_minor": 4
}