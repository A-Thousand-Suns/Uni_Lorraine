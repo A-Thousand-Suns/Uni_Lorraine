{
 "cells": [
  {
   "cell_type": "markdown",
   "metadata": {},
   "source": [
    "# Mini-lab: getting to know classes\n",
    "\n",
    "## Goals of this lab\n",
    "\n",
    "This lab session is going to be lighter, so as to give you the opportunity to ask questions on what we've covered in previous labs:\n",
    "\n",
    "- syntax (labs 1 and 2)\n",
    "- strings (lab 3)\n",
    "- data structures (lab 4)\n",
    "- functions (lab 5)\n",
    "\n",
    "This lab will also familiarize you with the basics of python object-oriented programming style (or \"OOP\" for short). The main point of this lab is to have you understand the basics of objects in python, as they are ubiquitous and very handy.\n",
    "\n",
    "**NB1**: Unlike previous labs, we'll grade this lab by hand. *Do make sure that your submission runs without errors!*\n",
    "\n",
    "**NB2**: For the more advanced of you in SC group 2 or TAL groups 1 & 2, the next lab should already be online. If you're done early with this lab, you can work on that next one which has a ton of extra problems to keep you busy!\n",
    "\n",
    "## Review #1: custom types, or \"classes\"\n",
    "\n",
    "As you now know, variables in python have different types: a `str` such as `\"42\"` is different from an `int` such as `42`. More complex types like `list` allow you to handle more complex variables with multiple elements.\n",
    "\n",
    "Object oriented programming allows you to extend the existing base types and define your own types. We refer to these custom types as \"classes\". Here's an example below:\n"
   ]
  },
  {
   "cell_type": "code",
   "execution_count": null,
   "metadata": {},
   "outputs": [],
   "source": [
    "class Monkey:\n",
    "    \"\"\"A class describing monkeys.\"\"\"\n",
    "    def __init__(self, monkey_species, number_of_peanuts_owned):\n",
    "        self.monkey_species = monkey_species\n",
    "        self.number_of_peanuts = number_of_peanuts_owned"
   ]
  },
  {
   "cell_type": "markdown",
   "metadata": {},
   "source": [
    "\n",
    "Here, we just implemented a class `Monkey` which we'll be using to describe monkeys throughout our code.\n",
    "\n",
    "The class contains one bound function, or a **method**, called `__init__`. This is a special method we call a **constructor**: it *creates* one monkey, using external information we pass as arguments (what species of monkey we're dealing with, how many peanuts do our monkeys have...).\n",
    "\n",
    "Another thing of note is the `self` argument of this constructor. This refers to a specific monkey **object**, i.e., an instance of the class `Monkey`, the actual monkey being constructed here.\n",
    "\n",
    "Having implemented the `Monkey` class, we can now represent monkeys in our code:\n"
   ]
  },
  {
   "cell_type": "code",
   "execution_count": null,
   "metadata": {},
   "outputs": [],
   "source": [
    "noam_chimpsky = Monkey(\"chimpanzee\", 42)\n",
    "harambe = Monkey(\"pirate gorilla\", 1)\n",
    "\n",
    "print(noam_chimpsky)\n",
    "print(harambe)\n",
    "\n",
    "print(noam_chimpsky.monkey_species)\n",
    "print(harambe.monkey_species)\n",
    "\n",
    "print(noam_chimpsky.number_of_peanuts)\n",
    "print(harambe.number_of_peanuts)\n"
   ]
  },
  {
   "cell_type": "markdown",
   "metadata": {},
   "source": [
    "As you can see, we have managed to create `Monkey` objects. \n",
    "\n",
    "What's more, our monkeys also have specific **attributes**: they each have their species, as well as a number of peanuts. These attributes allow us to describe information regarding our objects. Different objects of the same class may have different values for the same attribute, but they all have the attribute.\n",
    "\n",
    "## Exercise #1: Name your monkeys\n",
    "\n",
    "Re-implement the `Monkey` class in the cell below so that constructed monkeys also have a `name` attribute."
   ]
  },
  {
   "cell_type": "code",
   "execution_count": null,
   "metadata": {},
   "outputs": [],
   "source": [
    "class Monkey:\n",
    "    \"\"\"A class describing monkeys.\"\"\"\n",
    "    def __init__(???):\n",
    "        pass\n",
    "    \n",
    "\n",
    "noam_chimpsky = Monkey(\"Noam Chimpsky\", \"chimpanzee\", 42)\n",
    "harambe = Monkey(\"Harambe\", \"pirate gorilla\", 1)\n",
    "print(noam_chimpsky.name)\n",
    "print(harambe.name)\n"
   ]
  },
  {
   "cell_type": "markdown",
   "metadata": {},
   "source": [
    "### Side-note: naming conventions\n",
    "\n",
    "As a general rule of thumb, python classes are named in \"camel case\": capitalized first letters, no space. So, suppose you want to represent bad guys, then you'd name the corresponding class `BadGuy`. \n",
    "\n",
    "In python, variables and objects are also conventionally named in \"snake case\": everything in lowercase, with spaces represented by underscores `_`. Hence the `noam_chimpsky`\n",
    "\n",
    "## Exercise #2: Create your own class\n",
    "\n",
    "Create a class called `Hero`. `Hero` objects should have two attributes: a `name` and a `super_power`."
   ]
  },
  {
   "cell_type": "code",
   "execution_count": null,
   "metadata": {},
   "outputs": [],
   "source": [
    "# your implementation of the class here!\n",
    "\n",
    "lucky_luke = Hero(\"Lucky Luke\", super_power=\"shooting faster than his shadow\")"
   ]
  },
  {
   "cell_type": "markdown",
   "metadata": {},
   "source": [
    "## Review #2:  Bound functions, or \"methods\"\n",
    "\n",
    "One very powerful aspect of objects is that we can supplement them with custom functions. This allows us to define behavior specifically for objects of our class.\n",
    "\n",
    "One example of a method is the function `list.append(elem)`, which adds an element at the end of a list. This behavior is specific for lists, and it wouldn't make sense to have it for integers or monkeys.\n",
    "\n",
    "Here's how we implement methods:"
   ]
  },
  {
   "cell_type": "code",
   "execution_count": null,
   "metadata": {},
   "outputs": [],
   "source": [
    "class BadGuy:\n",
    "    \"\"\"A class describing the arch-nemisis of a hero!\"\"\"\n",
    "    def __init__(self, name):\n",
    "        self.name = name\n",
    "        self.stolen_peanuts = 0\n",
    "        \n",
    "    def greetings(self):\n",
    "        print(\"Welcome to my evil lair, hero!\") \n",
    "        print(\"I am %s!\" % self.name)\n",
    "        print(\"I am so evil that I have stolen %i peanuts from random monkeys!\" % self.stolen_peanuts)\n",
    "        \n",
    "dr_doom = BadGuy(\"Dr. Doom\")\n",
    "dr_doom.greetings()"
   ]
  },
  {
   "cell_type": "markdown",
   "metadata": {},
   "source": [
    "As you can see, we use the `self` argument to represent the object itself. This `self` argument gives you access to the attributes of the object itself.\n",
    "\n",
    "**NB**: All object methods must contain this `self` argument, as the first positional argument of the method. Otherwise the python interpreter will be unable to correctly handle your code.\n",
    "\n",
    "## Exercise #3: With great powers come great implementations\n",
    "\n",
    "Modify your implementation of the `Hero` class to add a method called `use_power`. When called, this method should print a message describing the hero using his super power! \n"
   ]
  },
  {
   "cell_type": "code",
   "execution_count": null,
   "metadata": {},
   "outputs": [],
   "source": [
    "# Modify your implementation of the `Hero` class from exercise 2\n",
    "lucky_luke = Hero(\"Lucky Luke\", super_power=\"shooting faster than his shadow\")\n",
    "lucky_luke.use_power()\n",
    "# Should print \"I'm Lucky Luke and I'm using my powers of shooting faster than his shadow!\""
   ]
  },
  {
   "cell_type": "markdown",
   "metadata": {},
   "source": [
    "## Exercise #4:  Tying it all up (Bonus)\n",
    "\n",
    "Modify the implementation of the `BadGuy` class in review 2, to add a method called `steal_peanut`. \n",
    "\n",
    "- This method should have one positional argument `monkey_victim`, which should be a `Monkey ` object.\n",
    "- If the `Monkey` object owns a positive number of peanuts, then remove one peanut from it, add one to the amount of peanuts stolen by the `BadGuy` object. Print a message to describe the process.\n",
    "- If the `Monkey` has zero peanuts, print a message saying that the `BadGuy` couldn't steal peanuts as the `monkey` didn't have any.\n",
    "\n",
    "Modify the implementation of the `Hero` class to add a method called `defeat`.\n",
    "- This method should have one positional argument `loser_badguy`, as well as one keyword argument `mistreated_monkeys`, defaulting to an empty list.\n",
    "- Start by using the hero's super-power, by calling the hero's `use_power` method.\n",
    "- Print a message stating that the `BadGuy` has been vanquished.\n",
    "- Retrieve all the peanuts stolen by the `BadGuy`: get the number of peanuts stolen by the `BadGuy`, and then set the bad guy's `stolen_peanuts` attribute to zero.\n",
    "- Print a message stating how many peanuts were retrieved.\n",
    "- If there are any victim `Monkey` in your `mistreated_monkeys`, distribute the retrieved peanuts fairly among them (all monkeys should receive the same number of peanuts), and print a custom message stating how many peanuts is given to each monkey (state the names of the monkeys!)\n",
    "\n",
    "**You are free to decide the exact messages that you display**. \n",
    "\n",
    "Once you're done, uncomment the last instruction in the following cell and run it to see the story unfold!"
   ]
  },
  {
   "cell_type": "code",
   "execution_count": null,
   "metadata": {},
   "outputs": [],
   "source": [
    "def tell_a_story():\n",
    "    \"\"\"Tells the great tale of a heroic cow-boy saving oppressed monkeys for the cruel Dr. Doom\"\"\"\n",
    "    monkeys = [\n",
    "        Monkey(\"Noam Chimpsky\", \"chimpanzee\", 10),\n",
    "        Monkey(\"Harambe\", \"pirate gorilla\", 1),\n",
    "    ]\n",
    "\n",
    "    bad_guy = BadGuy(\"Dr. Doom\")\n",
    "\n",
    "    while any(m.number_of_peanuts > 0 for m in monkeys):\n",
    "        for monkey in monkeys:\n",
    "            bad_guy.steal_peanut(monkey)\n",
    "\n",
    "    hero = Hero(\"Lucky Luke\", super_power=\"shooting faster than his shadow\")\n",
    "\n",
    "    bad_guy.greetings()\n",
    "\n",
    "    hero.defeat(bad_guy, mistreated_monkeys=monkeys)\n",
    "    \n",
    "    \n",
    "# Uncomment this when you're done implementing everything\n",
    "#tell_a_story() "
   ]
  },
  {
   "cell_type": "markdown",
   "metadata": {},
   "source": [
    "## Submit your code\n",
    "\n",
    "Submit your code on Arche. Like always:\n",
    "\n",
    "1. Convert your submission to a python script\n",
    " \n",
    "     You can do so by typing `jupyter nbconvert --to script {YOUR_NOTEBOOK}.ipynb` into the command line.\n",
    "     \n",
    "     Alternatively, you can use Jupyter's interface to create your file.\n",
    "     \n",
    "     - On Jupyter Notebook, go to *File -> Download As -> Python (.py)*\n",
    "     \n",
    "     - On Jupyter Lab, go to *File -> Export Notebook As... -> Export Notebook to Executable Script*\n",
    "2. Rename it properly: tp6_fname_lname.py\n",
    "3. Make sure everything works without errors by running it once: `python3 tp6_fname_lname.py`\n",
    "\n",
    "> tmickus, drowning in monkeys."
   ]
  },
  {
   "cell_type": "code",
   "execution_count": null,
   "metadata": {},
   "outputs": [],
   "source": []
  }
 ],
 "metadata": {
  "kernelspec": {
   "display_name": "Python 3",
   "language": "python",
   "name": "python3"
  },
  "language_info": {
   "codemirror_mode": {
    "name": "ipython",
    "version": 3
   },
   "file_extension": ".py",
   "mimetype": "text/x-python",
   "name": "python",
   "nbconvert_exporter": "python",
   "pygments_lexer": "ipython3",
   "version": "3.6.10"
  }
 },
 "nbformat": 4,
 "nbformat_minor": 4
}
