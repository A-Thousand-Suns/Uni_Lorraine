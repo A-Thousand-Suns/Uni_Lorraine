{
 "cells": [
  {
   "cell_type": "markdown",
   "metadata": {},
   "source": [
    "# Labs 7 & 8: Object-Oriented Python"
   ]
  },
  {
   "cell_type": "markdown",
   "metadata": {},
   "source": [
    "## Overview\n",
    "\n",
    "After last time's minilab, which covered the barest of object basics, we'll be playing around with actual classes today, writing a fair chunk of code and building several classes to solve a variety of problems.\n",
    "\n",
    "Recall these definitions to guide you through this lab:\n",
    "\n",
    "- An *object* has identity\n",
    "- A *name* is a reference to an object\n",
    "- A *namespace* is an associative mapping from names to objects\n",
    "- An *attribute* is any name following a dot ('.')\n",
    "\n",
    "**NB:** *Like the previous mini-lab, this lab will be corrected by hand. It is crucial that you make sure everything runs smoothly and without error before submitting your work!*"
   ]
  },
  {
   "cell_type": "markdown",
   "metadata": {},
   "source": [
    "## Part #1 Primatology"
   ]
  },
  {
   "cell_type": "markdown",
   "metadata": {},
   "source": [
    "### Review #1 Basic Class\n",
    "\n",
    "Let’s create a class to represent all possible apes! To start with, our friendly apes will all have their own names, stash of nuts, last known living place, as well as whether they understand American Sign Language.\n",
    "\n",
    "```Python\n",
    "class Ape:\n",
    "    def __init__(self, name, nut_stash, location, speaks_asl=False):\n",
    "        self.name = name\n",
    "        self.nut_stash = nut_stash\n",
    "        self.location = location\n",
    "        self.speaks_asl = speaks_asl\n",
    "```\n",
    "\n",
    "Our argument `speaks_asl` will be a boolean. For now, let's have `nut_stash` be an integer, the number of nuts they have. Other arguments to this constructor will be strings.\n",
    "\n",
    "Running the following code cell will create a class object `Ape` and print some information about it.\n",
    "\n",
    "**Note**: *If you change the content of this class definition, you will need to re-execute the code cell for it to have any effect. Any instance objects of the old class object will not be automatically updated, so you may need to rerun instantiations of this class object as well.*"
   ]
  },
  {
   "cell_type": "code",
   "execution_count": 94,
   "metadata": {},
   "outputs": [
    {
     "name": "stdout",
     "output_type": "stream",
     "text": [
      "<class '__main__.Ape'>\n",
      "[<class '__main__.Ape'>, <class 'object'>]\n",
      "<function Ape.__init__ at 0x000001F0730BE9D8>\n"
     ]
    }
   ],
   "source": [
    "class Ape:\n",
    "    def __init__(self, name, nut_stash, location, speaks_asl=False):\n",
    "        self.name = name\n",
    "        self.nut_stash = nut_stash\n",
    "        self.location = location\n",
    "        self.speaks_asl = speaks_asl\n",
    "        \n",
    "print(Ape)\n",
    "print(Ape.mro())\n",
    "print(Ape.__init__)"
   ]
  },
  {
   "cell_type": "markdown",
   "metadata": {},
   "source": [
    "We create an instance of the class by instantiating the class object, supplying some arguments.\n",
    "\n",
    "```Python\n",
    "washoe = Ape(\"Washoe\", 41, \"Central Washington University\", speaks_asl=True)\n",
    "```\n",
    "\n",
    "### Exercise #1: Meet your Monkey\n",
    "\n",
    "Print out the four attributes of the `washoe` instance object."
   ]
  },
  {
   "cell_type": "code",
   "execution_count": 95,
   "metadata": {},
   "outputs": [
    {
     "name": "stdout",
     "output_type": "stream",
     "text": [
      "Washoe\n",
      "41\n",
      "Central Washington University\n",
      "True\n"
     ]
    }
   ],
   "source": [
    "washoe = Ape(\"Washoe\", 41, \"Central Washington University\", speaks_asl=True)\n",
    "\n",
    "print(washoe.name)  # Print out the name of washoe\n",
    "print(washoe.nut_stash)  # Print out the number of nuts (nut_stash) of washoe\n",
    "print(washoe.location)  # Print out the location of washoe\n",
    "print(washoe.speaks_asl)  # Print out whether Washoe speaks ASL (speaks_asl)"
   ]
  },
  {
   "cell_type": "markdown",
   "metadata": {},
   "source": [
    "### Review #2 Inheritance\n",
    "\n",
    "Let's explore inheritance by creating a `Gorilla` class that takes two additional parameters, `job`, which should be a string, and `is_white_back` that defaults to `False`."
   ]
  },
  {
   "cell_type": "code",
   "execution_count": 96,
   "metadata": {},
   "outputs": [],
   "source": [
    "class Gorilla(Ape):\n",
    "    def __init__(self, name, nut_stash, location, job, speaks_asl=False, is_white_back=False):\n",
    "        super().__init__(name, nut_stash, location, speaks_asl=False)\n",
    "        self.job = job\n",
    "        self.is_white_back = is_white_back"
   ]
  },
  {
   "cell_type": "markdown",
   "metadata": {},
   "source": [
    "We haven't seen the `super()` call yet, and it's mostly just magic, but it concretely lets us treat the `self` object as an instance object of the immediate superclass (as measured by MRO), so we can call the superclass's `__init__` method.\n",
    "\n",
    "We can instantiate our new class:\n",
    "\n",
    "```Python\n",
    "washoe = Ape(\"Washoe\", 41, \"Central Washington University\", speaks_asl=True)\n",
    "harambe = Gorilla(\"Harambe\", 106, \"Rumahoy Pirate Ship\", \"pirate\", is_white_back=True)\n",
    "koko = Gorilla(\"Hanabiko\", 77, \"Woodside, CA\", \"pet owner\", speaks_asl=True)\n",
    "print(harambe.job)  # => \"pirate\"\n",
    "print(koko.job)  # => \"pet owner\"\n",
    "```\n",
    "\n",
    "Read through the following statements and try to predict their output.\n",
    "\n",
    "```Python\n",
    "type(washoe)\n",
    "isinstance(washoe, Ape)\n",
    "isinstance(harambe, Ape)\n",
    "isinstance(koko, Ape)\n",
    "isinstance(koko, Gorilla)\n",
    "issubclass(koko, Gorilla)\n",
    "issubclass(Ape, Gorilla)\n",
    "type(washoe) == type(harambe)\n",
    "type(harambe) == type(koko)\n",
    "washoe == harambe\n",
    "harambe == koko\n",
    "```"
   ]
  },
  {
   "cell_type": "code",
   "execution_count": 97,
   "metadata": {},
   "outputs": [
    {
     "name": "stdout",
     "output_type": "stream",
     "text": [
      "<class '__main__.Ape'>\n",
      "True\n",
      "True\n",
      "True\n",
      "True\n",
      "False\n",
      "True\n",
      "False\n",
      "True\n",
      "False\n",
      "False\n"
     ]
    }
   ],
   "source": [
    "washoe = Ape(\"Washoe\", 41, \"Central Washington University\", speaks_asl=True)\n",
    "harambe = Gorilla(\"Harambe\", 106, \"Rumahoy Pirate Ship\", \"pirate\", is_white_back=True)\n",
    "koko = Gorilla(\"Hanabiko\", 77, \"Woodside, CA\", \"pet owner\", speaks_asl=True)\n",
    "\n",
    "print(type(washoe))\n",
    "print(isinstance(washoe, Ape))\n",
    "print(isinstance(harambe, Ape))\n",
    "print(isinstance(koko, Ape))\n",
    "print(isinstance(koko, Gorilla))\n",
    "print(issubclass(Ape, Gorilla))\n",
    "print(issubclass(Gorilla, Ape))\n",
    "print(type(washoe) == type(harambe))\n",
    "print(type(harambe) == type(koko))\n",
    "print(washoe == harambe)\n",
    "print(harambe == koko)"
   ]
  },
  {
   "cell_type": "markdown",
   "metadata": {},
   "source": [
    "### Exercise #2: Stashing nuts\n",
    "\n",
    "Let's add more functionality to the `Ape` class!\n",
    "\n",
    "1. Start by creating a `Nut` class, with two attributes: `nut_type`, a string giving the type of nut (cashew, walnut, peanut...) and `is_edible`, a boolean showing whether apes can eat those, which should default to `True`.\n",
    "2. Modify the implementation of the `Ape` class: `nut_stash` should default to an empty `list`.\n",
    "3. Create a method `stash_nuts(*nuts)` that takes a variadic number of `Nut` objects and adds them to the ape's stash.\n",
    "4. Create a method `has_nut(nut)` that takes the `str` name of a `Nut` and returns `True` if the `nut_stash` contains such a nut, and `False` otherwise.\n",
    "5. (Bonus): modify your method `has_nut` so that it can accept either a `str` for the nut name, or a `Nut` directly"
   ]
  },
  {
   "cell_type": "code",
   "execution_count": 99,
   "metadata": {},
   "outputs": [
    {
     "name": "stdout",
     "output_type": "stream",
     "text": [
      "True\n",
      "False\n"
     ]
    }
   ],
   "source": [
    "class Nut:\n",
    "    # your implementation\n",
    "    def __init__(self, nut_type, is_edible=True):\n",
    "        self.nut_type = nut_type\n",
    "        self.is_edible = is_edible\n",
    "\n",
    "# Copy your previous implementation of the Ape class here,\n",
    "# or tweak the implementation you did in a previous cell\n",
    "class Ape:\n",
    "    def __init__(self, name, location, speaks_asl, nut_stash=[]):\n",
    "        self.name = name\n",
    "        self.nut_stash = nut_stash\n",
    "        self.location = location\n",
    "        self.speaks_asl = speaks_asl\n",
    "        \n",
    "    def stash_nuts(self, *nuts):\n",
    "        for cell in nuts:\n",
    "            self.nut_stash.append(cell)\n",
    "            \n",
    "    def has_nut(self, nut):\n",
    "        if isinstance(nut, Nut):\n",
    "            for cell in self.nut_stash:\n",
    "                if nut.nut_type == cell.nut_type:\n",
    "                    return True\n",
    "                \n",
    "        else:\n",
    "            for cell in self.nut_stash:\n",
    "                if nut == cell.nut_type :\n",
    "                    return True\n",
    "            \n",
    "        return False\n",
    "            \n",
    "        \n",
    "        \n",
    "washoe = Ape(\"Washoe\", \"Central Washington University\", speaks_asl=True)\n",
    "washoe.stash_nuts(\n",
    "    Nut(\"cashew\"), \n",
    "    Nut(\"peanut\"), \n",
    "    Nut(\"peanut\"), \n",
    "    Nut(\"walnut\"),\n",
    ")\n",
    "\n",
    "print(washoe.has_nut(\"walnut\"))\n",
    "# uncomment when done with bonus\n",
    "print(washoe.has_nut(Nut(\"hazelnut\")))"
   ]
  },
  {
   "cell_type": "markdown",
   "metadata": {},
   "source": [
    "### Exercise #3: Pretty monkeys\n",
    "\n",
    "The default printing represention python objects looks pretty dreary, and is not very informative. To overcome this, python proposes two special method names: `__str__` and `__repr__`, which both return a `str` object. Implementing any of these methods will modify how objects are represente\n",
    "\n",
    "There is a slight semantic difference between the two methods: the `__str__` is used to find the \"informal\" (human-friendly) string representation of an object whereas `__repr__` is used to find the \"official (computer-neurotic) string representation of an object.\n",
    "\n",
    "Modify the implementation of the `Ape` so that they return a more friendly presentation:\n",
    "\n",
    "```Python\n",
    "washoe = Ape(\"Washoe\", \"Central Washington University\", speaks_asl=True)\n",
    "print(washoe)\n",
    "# => should print 'Ape (name: \"Washoe\", 0 peanuts)'\n",
    "\n",
    "nim = Ape(\"Neam Chimpsky\", \"Black Beauty Ranch, TX\", speaks_asl=True, nut_stash=[Nut(\"walnut\"), Nut(\"peanut\")])\n",
    "# => should print 'Ape (name: \"Neam Chimpsky\", 2 peanuts)'\n",
    "```"
   ]
  },
  {
   "cell_type": "code",
   "execution_count": 100,
   "metadata": {},
   "outputs": [
    {
     "name": "stdout",
     "output_type": "stream",
     "text": [
      "Ape (name: \"Washoe\", 0 peanuts)\n",
      "Ape (name: \"Neam Chimpsky\", 2 peanuts)\n"
     ]
    }
   ],
   "source": [
    "# Copy your previous implementation of the Ape class here,\n",
    "# or tweak the implementation you did in a previous cell\n",
    "class Ape:\n",
    "    \n",
    "    def __init__(self, name, location, speaks_asl, nut_stash=[]):\n",
    "        self.name = name\n",
    "        self.nut_stash = nut_stash\n",
    "        self.location = location\n",
    "        self.speaks_asl = speaks_asl\n",
    "        \n",
    "    def stash_nuts(self, *nuts):\n",
    "        for cell in nuts:\n",
    "            self.nut_stash.append(cell)\n",
    "            \n",
    "    def has_nut(self, nut):\n",
    "        if isinstance(nut, Nut):\n",
    "            for cell in self.nut_stash:\n",
    "                if nut.nut_type == cell.nut_type:\n",
    "                    return True\n",
    "                \n",
    "        else:\n",
    "            for cell in self.nut_stash:\n",
    "                if nut == cell.nut_type :\n",
    "                    return True\n",
    "            \n",
    "        return False\n",
    "    \n",
    "    def __str__(self):\n",
    "        # in any case, make sure to implement this method!\n",
    "        return \"Ape (name: \\\"{0}\\\", {1} peanuts)\".format(self.name, len(self.nut_stash))\n",
    "\n",
    "washoe = Ape(\"Washoe\", \"Central Washington University\", speaks_asl=True)\n",
    "print(washoe)\n",
    "# => should print 'Ape (name: \"Washoe\", 0 peanuts)'\n",
    "\n",
    "nim = Ape(\"Neam Chimpsky\", \"Black Beauty Ranch, TX\", speaks_asl=True, nut_stash=[Nut(\"walnut\"), Nut(\"peanut\")])\n",
    "print(nim)\n",
    "# => should print 'Ape (name: \"Neam Chimpsky\", 2 peanuts)'"
   ]
  },
  {
   "cell_type": "markdown",
   "metadata": {},
   "source": [
    "### Exercise #4 Gorilla hierarchy\n",
    "\n",
    "Now, we'll focus on the `Gorilla` class. We want to implement functionality to determine if one gorilla ranks higher in the pack than another. \n",
    "\n",
    "Higher ranking apes have stashes that contain more nuts than low-ranking gorillas. In addition, white-back gorillas rank always higher in the pack than other gorillas.\n",
    "\n",
    "\n",
    "```Python\n",
    ">>> harambe = Gorilla(\"Harambe\", \"Rumahoy Pirate Ship\", \"pirate\", is_white_back=True)\n",
    ">>> harambe.stash_nuts(*[Nut(\"peanut\")] * 106)\n",
    ">>> koko = Gorilla(\"Hanabiko\", \"Woodside, CA\", \"pet owner\", speaks_asl=True)\n",
    ">>> koko.stash_nuts(*[Nut(\"peanut\")] * 77)\n",
    ">>> grodd = Gorilla(\"Gorilla Grodd\", \"Black Hole HQ\", \"super-villain\", is_white_back=True)\n",
    ">>> grodd.stash_nuts(*[Nut(\"peanut\")] * 42)\n",
    ">>> harambe > koko\n",
    "True\n",
    ">>> grodd > harambe\n",
    "False\n",
    "```\n",
    "\n",
    "To accomplish this, you will need to implement a magic method `__le__` that will add functionality to determine if a course is a prerequisite for another course. Read up on [total ordering](https://docs.python.org/3/library/functools.html#functools.total_ordering) to figure out what `__le__` should return based on the argument you pass in.\n",
    "\n",
    "To give a few hints on how to add this piece of functionality might be implemented, consider how you might extract the actual `int` number from the course code attribute.\n",
    "\n",
    "We'll start by implementing a `__eq__` on `Ape`s. Two apes are equivalent if they have the same name, equivalent nuts stash, and the same fluency with ASL. Location doesn't matter. \n",
    "\n",
    "When implementing `Ape` pack ranking, keep in mind it depends only on the size of the nut stash.\n",
    "\n",
    "**NB:** *in order for `Gorilla` to inherit the default definitions of `__le__` and `__eq__`, we have added it here too.*\n",
    "\n",
    "Once you've implemented a `__le__` method for all `Ape`s, we'll add our additionnal constraint that white-back `Gorilla`s rank higher in the pack. \n",
    "\n",
    "**NB:** *As hint for the implementation, consider the `super()` method we saw previously in Review #2.*"
   ]
  },
  {
   "cell_type": "code",
   "execution_count": 101,
   "metadata": {},
   "outputs": [],
   "source": [
    "from functools import total_ordering\n",
    "\n",
    "\n",
    "# Copy your previous implementation of the Ape class here,\n",
    "# or tweak the implementation you did in a previous cell\n",
    "@total_ordering\n",
    "class Ape:\n",
    "    \n",
    "    def __init__(self, name, location, speaks_asl=False, nut_stash=[]):\n",
    "        self.name = name\n",
    "        self.nut_stash = nut_stash\n",
    "        self.location = location\n",
    "        self.speaks_asl = speaks_asl\n",
    "        \n",
    "    def stash_nuts(self, *nuts):\n",
    "        for cell in nuts:\n",
    "            self.nut_stash.append(cell)\n",
    "            \n",
    "    def has_nut(self, nut):\n",
    "        if isinstance(nut, Nut):\n",
    "            for cell in self.nut_stash:\n",
    "                if nut.nut_type == cell.nut_type:\n",
    "                    return True\n",
    "                \n",
    "        else:\n",
    "            for cell in self.nut_stash:\n",
    "                if nut == cell.nut_type :\n",
    "                    return True\n",
    "            \n",
    "        return False\n",
    "    \n",
    "    def __str__(self):\n",
    "        # in any case, make sure to implement this method!\n",
    "        return \"Ape (name: \\\"{0}\\\", {1} peanuts)\".format(self.name, len(self.nut_stash))\n",
    "    \n",
    "    def __le__(self, other):\n",
    "        # in any case, make sure to implement this method!\n",
    "        if len(self.nut_stash) <= len(other.nut_stash):\n",
    "            return True\n",
    "        else:\n",
    "            return False\n",
    "    \n",
    "    def __eq__(self, other):\n",
    "        # in any case, make sure to implement this method!\n",
    "        if len(self.nut_stash) == len(other.nut_stash):\n",
    "            return True\n",
    "        else:\n",
    "            return False\n",
    "\n",
    "\n",
    "# Copy your previous implementation of the Gorilla class here,\n",
    "# or tweak the implementation you did in a previous cell  harambe = Gorilla(\"Harambe\", \"Rumahoy Pirate Ship\", \"pirate\", is_white_back=True)  \n",
    "class Gorilla(Ape):\n",
    "    def __init__(self, name, location, job,   nut_stash=[], speaks_asl=False, is_white_back=False):\n",
    "        super().__init__(name,  location, nut_stash=[], speaks_asl=False)\n",
    "        self.job = job\n",
    "        self.is_white_back = is_white_back\n",
    "        \n",
    "    def __le__(self, other):\n",
    "        # in any case, make sure to implement this method!\n",
    "        if self.is_white_back==True and other.is_white_back==False:\n",
    "            return False\n",
    "        elif self.is_white_back==False and other.is_white_back==True:\n",
    "            return True\n",
    "        else:\n",
    "            if len(self.nut_stash) <= len(other.nut_stash):\n",
    "                return True\n",
    "            else:\n",
    "                return False\n",
    "            "
   ]
  },
  {
   "cell_type": "markdown",
   "metadata": {},
   "source": [
    "#### Sorting\n",
    "\n",
    "Now that we've written a `__le__` method and an `__eq__` method, we've implemented everything we need to speak about an \"ordering\" of `Gorrila`s. Using the [`functools.total_ordering` decorator](https://docs.python.org/3/library/functools.html#functools.total_ordering), decorate the class so that all of the comparison methods are implemented. You should be able to run"
   ]
  },
  {
   "cell_type": "code",
   "execution_count": 102,
   "metadata": {},
   "outputs": [
    {
     "name": "stdout",
     "output_type": "stream",
     "text": [
      "[<__main__.Gorilla object at 0x000001F073421A20>, <__main__.Gorilla object at 0x000001F0734210B8>, <__main__.Gorilla object at 0x000001F0734212E8>]\n"
     ]
    }
   ],
   "source": [
    "# Let's make a few gorillas\n",
    "harambe = Gorilla(\"Harambe\", \"Rumahoy Pirate Ship\", \"pirate\", is_white_back=True)\n",
    "harambe.stash_nuts(*[Nut(\"peanut\")] * 106)\n",
    "\n",
    "koko = Gorilla(\"Hanabiko\", 77, \"Woodside, CA\", \"pet owner\", speaks_asl=True)\n",
    "koko.stash_nuts(*[Nut(\"peanut\")] * 77)\n",
    "\n",
    "grodd = Gorilla(\"Gorilla Grodd\", 42, \"Black Hole HQ\", \"super-villain\", is_white_back=True)\n",
    "grodd.stash_nuts(*[Nut(\"peanut\")] * 42)\n",
    "\n",
    "gorillas = [harambe, koko, grodd]\n",
    "gorillas.sort()\n",
    "print(gorillas) # => [koko, grodd, harambe]\n",
    "\n"
   ]
  },
  {
   "cell_type": "markdown",
   "metadata": {},
   "source": [
    "### Review #3 Static & class methods\n",
    "\n",
    "Sometimes, you have a piece of code that doesn't really belong to the object, but definitely belongs to the class.\n",
    "\n",
    "We use static and class methods in this case. \n",
    "\n",
    "```Python\n",
    "import random\n",
    "\n",
    "class Ape:\n",
    "\n",
    "    # some class code\n",
    "    \n",
    "    @classmethod\n",
    "    def invent_random_ape(cls):\n",
    "        name = random.choice([\n",
    "            \"Kanzi\",\n",
    "            \"Chantek\",\n",
    "            \"Panzee\",\n",
    "        ])\n",
    "        location = random.choice([\n",
    "            \"Jungle\",\n",
    "            \"Zoo\", \n",
    "            \"ASL research lab\",\n",
    "        ])\n",
    "        speaks_asl = random.choice([\n",
    "            True,\n",
    "            False,\n",
    "        ])\n",
    "        return cls(name, location, speaks_asl=speaks_asl)\n",
    "    \n",
    "    @staticmethod\n",
    "    def monkey_around():\n",
    "        \"\"\"Tell a monkey joke to lighten the mood.\"\"\"\n",
    "       joke = random.choice([\n",
    "           \"What do monkeys do for laughs? They tell jokes about people.\",\n",
    "           \"All the monkeys from these labs are real!\",\n",
    "           \"What kind of key unlocks a banana? A mon-key.\",\n",
    "       ]) \n",
    "       print(joke)\n",
    "       \n",
    "    # some more class code\n",
    "\n",
    "print(Ape.invent_random_ape()) #=> Ape (name: \"Chantek\", 0 peanuts)\n",
    "print(Ape.monkey_around()) #=> \"What kind of key unlocks a banana? A mon-key.\"\n",
    "```\n",
    "\n",
    "We use specific decorators (starting with `@`) to distinguish which methods are bound to objects, and which are static methods or class method. \n",
    "\n",
    "- Classmethods have a first positional argument called `cls`, representing the class itself (here `Ape`), instead of a `self` (which represent the object instance). You can use that `cls` argument to retrieve the class constructor, for instance.\n",
    "- Note that static methods do not have a positional `self` or `cls` argument. They are just semantically tied to the class, and syntactically they share the same namespace.\n",
    "\n",
    "\n",
    "### Exercise #5: Much ado about peanuts\n",
    "\n",
    "We'll create a static method `nut_inventory(*monkeys)` that takes a variadic number of monkeys as positional arguments, and returns an inventory of all the nuts they have collectively stashed. The inventory should be a python `dict`, mapping nut types to the number of corresponding nuts.\n",
    "\n",
    "**Bonus:** Use the [`Counter` object from the collections library](https://docs.python.org/3/library/collections.html#collections.Counter) to do your inventory. Use `Nut`objects directly as keys. You will most certainly need to have a look at the magic functions [`__hash__` and `__eq__`](https://docs.python.org/3/reference/datamodel.html#object.__hash__)."
   ]
  },
  {
   "cell_type": "code",
   "execution_count": 103,
   "metadata": {},
   "outputs": [],
   "source": [
    "# If you're doing the bonus part:\n",
    "# Copy your previous implementation of the Nut class here,\n",
    "# or tweak the implementation you did in a previous cell.\n",
    "class Nut:\n",
    "    # your implementation\n",
    "    def __init__(self, nut_type, is_edible=True):\n",
    "        self.nut_type = nut_type\n",
    "        self.is_edible = is_edible\n",
    "\n",
    "# Copy your previous implementation of the Ape class here,\n",
    "# or tweak the implementation you did in a previous cell\n",
    "@total_ordering\n",
    "class Ape:\n",
    "    \n",
    "    def __init__(self, name, location, speaks_asl=False, nut_stash=[]):\n",
    "        self.name = name\n",
    "        self.nut_stash = nut_stash\n",
    "        self.location = location\n",
    "        self.speaks_asl = speaks_asl\n",
    "        \n",
    "    def stash_nuts(self, *nuts):\n",
    "        for cell in nuts:\n",
    "            self.nut_stash.append(cell)\n",
    "            \n",
    "    def has_nut(self, nut):\n",
    "        if isinstance(nut, Nut):\n",
    "            for cell in self.nut_stash:\n",
    "                if nut.nut_type == cell.nut_type:\n",
    "                    return True\n",
    "                \n",
    "        else:\n",
    "            for cell in self.nut_stash:\n",
    "                if nut == cell.nut_type :\n",
    "                    return True\n",
    "            \n",
    "        return False\n",
    "    \n",
    "    def __str__(self):\n",
    "        # in any case, make sure to implement this method!\n",
    "        return \"Ape (name: \\\"{0}\\\", {1} peanuts)\".format(self.name, len(self.nut_stash))\n",
    "    \n",
    "    def __le__(self, other):\n",
    "        # in any case, make sure to implement this method!\n",
    "        if len(self.nut_stash) <= len(other.nut_stash):\n",
    "            return True\n",
    "        else:\n",
    "            return False\n",
    "    \n",
    "    def __eq__(self, other):\n",
    "        # in any case, make sure to implement this method!\n",
    "        if len(self.nut_stash) == len(other.nut_stash):\n",
    "            return True\n",
    "        else:\n",
    "            return False\n",
    "        \n",
    "    @staticmethod \n",
    "    def nut_inventory(self, *monkeys):\n",
    "        result = dict()\n",
    "        for monkey in monkeys:\n",
    "            for nut in monkey.nut_stash:\n",
    "                if(bool(result.get(nut.nut_type))):\n",
    "                    result[nut.nut_type] +=1\n",
    "                else:\n",
    "                    result[nut.nut_type] =1\n",
    "        return result\n",
    "    "
   ]
  },
  {
   "cell_type": "markdown",
   "metadata": {},
   "source": [
    "## Part #2 Concrete Object Oriented Programming"
   ]
  },
  {
   "cell_type": "markdown",
   "metadata": {},
   "source": [
    "Enough monkeying around! Let's have you work on a number of objects that you may one day encounter in your programmer life.\n",
    "\n",
    "### Exercise #6 Not-so-SimpleGraph\n",
    "\n",
    "In this part, you'll build the implementation for a `SimpleGraph` class in Python.\n",
    "\n",
    "You will need to define a `Vertex` class, an `Edge` class, and a `SimpleGraph` class. The specification is as follows:\n",
    "\n",
    "A `Vertex` has attributes:\n",
    "\n",
    "* `name`, a string representing the label of the vertex.\n",
    "* `edges`, a set representing edges outbound from this vertex to its neighbors\n",
    "\n",
    "A new Vertex should be initialized with an optional `name`, which defaults to `\"\"`, and should be initialized with an empty edge set.\n",
    "\n",
    "An `Edge` has attributes:\n",
    "\n",
    "* `start`, a `Vertex` representing the start point of the edge.\n",
    "* `end`, a `Vertex` representing the end point of the edge.\n",
    "* `cost`, a `float` (used for graph algorithms) representing the weight of the edge.\n",
    "* `visited`, a `bool` (used for graph algorithms) representing whether this edge has been visited before.\n",
    "\n",
    "Note that for our purposes, an `Edge` is directed: the edge from `v_a` to `v_b` is distinct from the edge from `v_b` to `v_a`.\n",
    "\n",
    "An `Edge` requires a `start` and `end` vertex in order to be instantiated. `cost` should default to 1, and `visited` should default to `False`, but both should be able to be set via an initializer.\n",
    "\n",
    "A `SimpleGraph` has attributes\n",
    "\n",
    "* `verts`, a collection of `Vertex`s (you need to decide the collection type)\n",
    "* `edges`, a collection of `Edge`s (you need to decide the collection type)\n",
    "\n",
    "as well as several methods:\n",
    "\n",
    "* `graph.add_vertex(v)`\n",
    "* `graph.add_edge(v_1, v_2)`\n",
    "* `graph.contains_vertex(v)`\n",
    "* `graph.contains_edge(v_1, v_2)`\n",
    "* `graph.get_neighbors(v)`\n",
    "* `graph.is_empty()`\n",
    "* `graph.size()`\n",
    "* `graph.remove_vertex(v)`\n",
    "* `graph.remove_edge(v_1, v_2)`\n",
    "* `graph.is_neighbor(v1, v2)`\n",
    "* `graph.is_reachable(v1, v2)  # Use any algorithm you like`\n",
    "* `graph.clear_all()`\n",
    "\n",
    "The actual implementation details are up to you.\n",
    "\n",
    "*Note: debugging will be significantly easier if you write `__str__` or `__repr__` methods on your custom classes.*"
   ]
  },
  {
   "cell_type": "code",
   "execution_count": 104,
   "metadata": {},
   "outputs": [],
   "source": [
    "class Vertex:\n",
    "    def __init__(self, name=\"\", edges=set()):\n",
    "        self.name = name\n",
    "        self.edges = edges\n",
    "        \n",
    "    def __eq__(self, other):\n",
    "        if self.name == other.name and self.edges == other.edges:\n",
    "            return True\n",
    "        else:\n",
    "            return False\n",
    "\n",
    "class Edge:\n",
    "    def __init__(self, start, end, cost=1.0, visited=False):\n",
    "        self.start = start\n",
    "        self.end = end\n",
    "        self.cost = cost\n",
    "        self.visited = visited\n",
    "        \n",
    "    def __eq__(self, other):\n",
    "        if self.start==other.start and self.end==other.end and self.cost==other.cost and self.visited==other.visited:\n",
    "            return True\n",
    "        else:\n",
    "            return False\n",
    "\n",
    "class SimpleGraph:\n",
    "    def __init__(self, verts=[], edges=[]):\n",
    "        self.verts = verts\n",
    "        self.edges = edges\n",
    "        \n",
    "    def add_vertex(self, v):\n",
    "        self.verts.append(v)\n",
    "    \n",
    "    def add_edge(self, v_1, v_2):\n",
    "        self.edges.append(Edge(v_1,v_2))\n",
    "    \n",
    "    def contains_vertex(self, v):\n",
    "        if v in self.verts:\n",
    "            return True\n",
    "        else:\n",
    "            return False\n",
    "    \n",
    "    def contains_edge(self, v_1, v_2):\n",
    "        e = Edge(v_1, v_2)\n",
    "        if e in self.edges:\n",
    "            return True\n",
    "        else:\n",
    "            return False\n",
    "    \n",
    "    def get_neighbors(self, v):\n",
    "        pass\n",
    "    \n",
    "    def is_empty(self):\n",
    "        if len(self.edges)==0:\n",
    "            return True\n",
    "        else:\n",
    "            return False\n",
    "    \n",
    "    def size(self):\n",
    "        pass\n",
    "        \n",
    "    def remove_vertex(self, v):\n",
    "        pass\n",
    "    \n",
    "    def remove_edge(self, v_1, v_2):\n",
    "        pass\n",
    "    \n",
    "    def is_neighbor(self, v1, v2):\n",
    "        pass\n",
    "    \n",
    "    def is_reachable(self, v1, v2):\n",
    "        pass\n",
    "    \n",
    "    def clear_all(self):\n",
    "        self.verts = []\n",
    "        self.edges = []"
   ]
  },
  {
   "cell_type": "markdown",
   "metadata": {},
   "source": [
    "### Exercise #7: Implementing Graph Algorithms (bonus)\n",
    "\n",
    "If you're feeling up to the challenge, and you have sufficient time, goimplement other graph algorithms, using your SimpleGraph from exercise #6. The point isn't to check whether you know your graph algorithms - rather, these algorithms will serve to test the correctness of your graph implementation. The particulars are up to you.\n",
    "\n",
    "As some suggestions:\n",
    "\n",
    "* [Longest path](https://en.wikipedia.org/wiki/Longest_path_problem)\n",
    "* [Dijkstra's Algorithm](https://en.wikipedia.org/wiki/Dijkstra%27s_algorithm)\n",
    "* [A*](https://en.wikipedia.org/wiki/A*_search_algorithm)\n",
    "* [Max Flow](https://en.wikipedia.org/wiki/Maximum_flow_problem)\n",
    "* <a href=\"https://en.wikipedia.org/wiki/Clique_(graph_theory)\">K-Clique</a>\n",
    "* <a href=\"https://en.wikipedia.org/wiki/Component_(graph_theory)\">Largest Connected Component</a>\n",
    "* [is_bipartite](https://en.wikipedia.org/wiki/Bipartite_graph#Testing_bipartiteness)\n",
    "* [hamiltonian_path_exists](https://en.wikipedia.org/wiki/Hamiltonian_path)\n"
   ]
  },
  {
   "cell_type": "markdown",
   "metadata": {},
   "source": [
    "### Exercise #8: My Magical Graph (bonus)\n",
    "\n",
    "See if you can rewrite the `SimpleGraph` class from exercise #6, using magic methods to emulate the behavior and operators of standard Python. In particular,\n",
    "\n",
    "```\n",
    "graph[v]  # returns neighbors of v\n",
    "graph[v] = v_2  # Insert an edge from v to v2\n",
    "len(graph)\n",
    "# etc\n",
    "```\n",
    "\n",
    "If you've tackled exercise #6, make sure to modify your code there as well!\n"
   ]
  },
  {
   "cell_type": "markdown",
   "metadata": {},
   "source": [
    "### Exercise #9: Timed Key-Value Store (Bonus)\n",
    "\n",
    "Let's build an interesting data structure straight out of an interview programming challenge from [Stripe](https://stripe.com/). This is more of an algorithms challenge than a Python challenge, but we hope you're still interested in tackling it.\n",
    "\n",
    "At a high-level, we'll be building a key-value store (think `dict` or Java's `HashMap`) that has a `get` method that takes an optional second parameter as a `time` object in Python to return the most recent value before that period in time. If no key-value pair was added to the map before that period in time, return `None`. We'll call this class `TimedKVStore`.\n",
    "\n",
    "You’ll need some sort of `time` object to track when key-value pairs are getting added to this map. Consider using [the `time` module](https://docs.python.org/3/library/time.html).\n",
    "\n",
    "To give you an idea of how this class works, this is what should happen after you implement `TimedKVStore`.\n",
    "\n",
    "```Python\n",
    "d = TimedKVStore()\n",
    "t0 = time.time()\n",
    "d.put(\"1\", 1)\n",
    "t1 = time.time()\n",
    "d.put(\"1\", 1.1)\n",
    "d.get(\"1\")  # => 1.1\n",
    "d.get(\"1\", t1)  # => 1\n",
    "d.get(\"1\", t0)  # => None\n",
    "```"
   ]
  },
  {
   "cell_type": "code",
   "execution_count": 105,
   "metadata": {},
   "outputs": [
    {
     "ename": "NameError",
     "evalue": "name 'time' is not defined",
     "output_type": "error",
     "traceback": [
      "\u001b[1;31m---------------------------------------------------------------------------\u001b[0m",
      "\u001b[1;31mNameError\u001b[0m                                 Traceback (most recent call last)",
      "\u001b[1;32m<ipython-input-105-03054a219d9a>\u001b[0m in \u001b[0;36m<module>\u001b[1;34m\u001b[0m\n\u001b[0;32m      3\u001b[0m \u001b[1;33m\u001b[0m\u001b[0m\n\u001b[0;32m      4\u001b[0m \u001b[0md\u001b[0m \u001b[1;33m=\u001b[0m \u001b[0mTimedKVStore\u001b[0m\u001b[1;33m(\u001b[0m\u001b[1;33m)\u001b[0m\u001b[1;33m\u001b[0m\u001b[1;33m\u001b[0m\u001b[0m\n\u001b[1;32m----> 5\u001b[1;33m \u001b[0mt0\u001b[0m \u001b[1;33m=\u001b[0m \u001b[0mtime\u001b[0m\u001b[1;33m.\u001b[0m\u001b[0mtime\u001b[0m\u001b[1;33m(\u001b[0m\u001b[1;33m)\u001b[0m\u001b[1;33m\u001b[0m\u001b[1;33m\u001b[0m\u001b[0m\n\u001b[0m\u001b[0;32m      6\u001b[0m \u001b[0md\u001b[0m\u001b[1;33m.\u001b[0m\u001b[0mput\u001b[0m\u001b[1;33m(\u001b[0m\u001b[1;34m\"1\"\u001b[0m\u001b[1;33m,\u001b[0m \u001b[1;36m1\u001b[0m\u001b[1;33m)\u001b[0m\u001b[1;33m\u001b[0m\u001b[1;33m\u001b[0m\u001b[0m\n\u001b[0;32m      7\u001b[0m \u001b[0mt1\u001b[0m \u001b[1;33m=\u001b[0m \u001b[0mtime\u001b[0m\u001b[1;33m.\u001b[0m\u001b[0mtime\u001b[0m\u001b[1;33m(\u001b[0m\u001b[1;33m)\u001b[0m\u001b[1;33m\u001b[0m\u001b[1;33m\u001b[0m\u001b[0m\n",
      "\u001b[1;31mNameError\u001b[0m: name 'time' is not defined"
     ]
    }
   ],
   "source": [
    "class TimedKVStore:\n",
    "    pass\n",
    "\n",
    "d = TimedKVStore()\n",
    "t0 = time.time()\n",
    "d.put(\"1\", 1)\n",
    "t1 = time.time()\n",
    "d.put(\"1\", 1.1)\n",
    "print(d.get(\"1\"))  # => 1.1\n",
    "print(d.get(\"1\", t1))  # => 1\n",
    "print(d.get(\"1\", t0))  # => None"
   ]
  },
  {
   "cell_type": "markdown",
   "metadata": {},
   "source": [
    "### Exercise #10: Remove (bonus)\n",
    "\n",
    "Implement a method on a `TimedKVStore` to `remove(key)` that takes a key and removes that entire key from the key-value store.\n",
    "\n",
    "Write another `remove(key, time)` method that takes a key and removes all memory of values before that time method."
   ]
  },
  {
   "cell_type": "markdown",
   "metadata": {},
   "source": [
    "## Part #3 Magic Methods"
   ]
  },
  {
   "cell_type": "markdown",
   "metadata": {},
   "source": [
    "### Reading\n",
    "\n",
    "Python provides an enormous number of special \"magic\" methods that a class can override to interoperator with builtin Python operations. You can skim through an [approximate visual list](http://diveintopython3.problemsolving.io/special-method-names.html) from Dive into Python3, or a [more verbose explanation](https://rszalski.github.io/magicmethods/), or the [complete Python documentation](https://docs.python.org/3/reference/datamodel.html#specialnames) on special methods. \n",
    "\n",
    "Fair warning, there are a lot of them, so it's probably better to skim than to really take a deep dive, unless you're loving this stuff. It's still a good thing to have a general idea of what exists and what can be done."
   ]
  },
  {
   "cell_type": "markdown",
   "metadata": {},
   "source": [
    "### Exercise #11: Polynomial Class\n",
    "\n",
    "We will write a `Polynomial` class that acts like a number. As a a reminder, a [polynomial](https://en.wikipedia.org/wiki/Polynomial) is a mathematical object that looks like $1 + x + x^2$ or $4 - 10x + x^3$ or $-4 - 2x^{10}$. A mathematical polynomial can be evaluated at a given value of $x$. For example, if $f(x) = 1 + x + x^2$, then $f(5) = 1 + 5 + 5^2 = 1 + 5 + 25 = 31$.\n",
    "\n",
    "Polynomials are also added componentwise: If $f(x) = 1 + 4x + 4x^3$ and $g(x) = 2 + 3x^2 + 5x^3$, then $(f + g)(x) = (1 + 2) + 4x + 3x^2 + (4 + 5)x^3 = 3 + 4 + 3x^2 + 9x^3$.\n",
    "\n",
    "Construct a polynomial with variadic coefficients keywords: the zeroth coefficient is given with `c_0`, the square coefficient is given with `c_2`, and so on. For example, `f = Polynomial(c_0=1, c_2=3, c_4=5)` should construct a `Polynomial` representing $1 + 3x^2 + 5x^4$.\n",
    "\n",
    "You will need to override the addition special method (`__add__`) and the callable special method (`__call__`).\n",
    "\n",
    "You should be able to emulate the following code:\n",
    "\n",
    "```Python\n",
    "f = Polynomial(c_0=1, c_1=5, c_2=10)\n",
    "g = Polynomial(c_0=1, c_1=3, c_2=5)\n",
    "\n",
    "print(f(5))  # => Invokes `f.__call__(5)`\n",
    "print(g(2))  # => Invokes `g.__call__(2)`\n",
    "\n",
    "h = f + g    # => Invokes `f.__add__(g)`\n",
    "print(h(3))  # => Invokes `h.__call__(3)`\n",
    "```\n",
    "\n",
    "Lastly, implement a method to convert a `Polynomial` to an informal string representation. For example, the polynomial `Polynomial(1, 3, 5)` should be represented by the string `\"1 * x^0 + 3 * x^1 + 5 * x^2\"`."
   ]
  },
  {
   "cell_type": "code",
   "execution_count": 106,
   "metadata": {},
   "outputs": [],
   "source": [
    "class Polynomial:\n",
    "    def __init__(self, c_0, c_1, c_2):\n",
    "        self.c_0 = c_0\n",
    "        self.c_1 = c_1\n",
    "        self.c_2 = c_2\n",
    "    \n",
    "    def __call__(self, x): \n",
    "        \"\"\"Implement `self(x)`.\"\"\"\n",
    "        return self.c_0 + self.c_1*(x*x) + self.c_2*(x*x*x*x)\n",
    "    \n",
    "    def __add__(self, other):\n",
    "        \"\"\"Implement `self + other`.\"\"\"\n",
    "        return Polynomial(self.c_0+other.c_0, self.c_1+other.c_1, self.c_2+other.c_2)\n",
    "    \n",
    "    def __str__(self):\n",
    "        \"\"\"Implement `str(x)`.\"\"\"\n",
    "        print(\"{0} * x^0 + {1} * x^1 + {2} * x^2\".format(self.c_0, self.c_1, self.c_2))"
   ]
  },
  {
   "cell_type": "markdown",
   "metadata": {},
   "source": [
    "### Exercise #12: Polynomial Extensions (Bonus)\n",
    "\n",
    "If you are looking for more, implement additional operations on our `Polynomial` class from exercise #11. You may want to implement `__sub__`, `__mul__`, and `__div__`.\n",
    "\n",
    "You can also implement more complicated mathematical operations, such as `f.derivative()`, which returns a new function that is the derivative of `f`, or `.zeros()`, which returns a collection of the function's zeros.\n",
    "\n",
    "If you need even more, write a `classmethod` to construct a polynomial from a string representation of it. You should be able to write:\n",
    "\n",
    "```\n",
    "f = Polynomial.parse(\"1 * x^0 + 3 * x^1 + 5 * x^2\")\n",
    "```"
   ]
  },
  {
   "cell_type": "markdown",
   "metadata": {},
   "source": [
    "### Exercise #13: `MultivariatePolynomial` (Bonus)\n",
    "\n",
    "Write a class called `MultivariatePolynomial` that represents a polynomial in many variables. For example, $f(x, y, z) = 4xy + 10x^2z - 5x^3yz + y^4z^3$ is a polynomial in three variables.\n",
    "\n",
    "How would you provide coefficients to the constructor? How would you define the arguments to the callable? How would you implement the mathematical operations efficiently?\n",
    "\n",
    "You should keep in mind the `Polynomial` class from exercise #11."
   ]
  },
  {
   "cell_type": "code",
   "execution_count": 107,
   "metadata": {},
   "outputs": [],
   "source": [
    "# your implementation here\n",
    "class MultivariatePolynomial:\n",
    "    pass"
   ]
  },
  {
   "cell_type": "markdown",
   "metadata": {},
   "source": [
    "## Part #4: Review: Functions as objects\n",
    "\n",
    "As you know from class, everything in Python is an object. Including functions. Functions have some interesting attributes to explore. We'll poke around several of these attributes more in depth here. You already saw a couple of attributes in lab5, such as `__doc__`.\n",
    "\n",
    "Usually, this information isn't particularly useful for practitioners (you'll rarely want to hack around with the internals of functions), but even seeing that you *can* in Python is very cool. And it *will* be useful on the event you *really* need to monkeypatch a given functionality. \n",
    "\n",
    "In this section, there is no code to write. Instead, you will be reading and running code and observing the output. Nevertheless, we encourage you to play around with the code cells to experiment and explore on your own."
   ]
  },
  {
   "cell_type": "markdown",
   "metadata": {},
   "source": [
    "#### Default Values (`__defaults__` and `__kwdefaults__`)\n",
    "\n",
    "As stated earlier, any default values (either normal default arguments or the keyword-only default arguments that follow a variadic positional argument parameter) are bound to the function object at the time of function definition. Consider our `all_together` function from earlier, and run the following code. Why might the `__defaults__` attribute be a tuple, but the `__kwdefaults__` attribute be a dictionary?"
   ]
  },
  {
   "cell_type": "code",
   "execution_count": 108,
   "metadata": {},
   "outputs": [
    {
     "data": {
      "text/plain": [
       "{'indent': True, 'spaces': 4}"
      ]
     },
     "execution_count": 108,
     "metadata": {},
     "output_type": "execute_result"
    }
   ],
   "source": [
    "def all_together(x, y, z=1, *nums, indent=True, spaces=4, **options): \n",
    "    pass\n",
    "\n",
    "all_together.__defaults__  # => (1, )\n",
    "all_together.__kwdefaults__  # => {'indent':True, 'spaces':4}"
   ]
  },
  {
   "cell_type": "markdown",
   "metadata": {},
   "source": [
    "#### Code Object (`__code__`)\n",
    "\n",
    "In CPython, the reference implementation of Python used by many people (including us), functions are byte-compiled into executable Python code, or _bytecode_, when defined. This code object, which represents the bytecode and some administrative information, is bound to the `__code__` attribute, and has a ton of interesting properties, best illustrated by example. Code objects are immutable and contain no references to immutable objects.\n",
    "\n",
    "```Python\n",
    "def all_together(x, y, z=1, *nums, indent=True, spaces=4, **options):\n",
    "    \"\"\"A useless comment\"\"\"\n",
    "    print(x + y * z)\n",
    "    print(sum(nums))\n",
    "    for k, v in options.items():\n",
    "        if indent:\n",
    "            print(\"{}\\t{}\".format(k, v))\n",
    "        else:\n",
    "            print(\"{}{}{}\".format(k, \" \" * spaces, v))\n",
    "            \n",
    "code = all_together.__code__\n",
    "```\n",
    "\n",
    "| Attribute  | Sample Value | Explanation |\n",
    "| --- | --- | --- |\n",
    "| `code.co_argcount` | `3` | number of positional arguments (including arguments with default values) |\n",
    "| `code.co_cellvars` | `()` | tuple containing the names of local variables that are referenced by nested functions |\n",
    "| `code.co_code` | `b't\\x00\\x00...\\x04S\\x00'` | string representing the sequence of bytecode instructions |\n",
    "| `code.co_consts` | `('A useless comment', '{}\\t{}', '{}{}{}', ' ', None)` | tuple containing the literals used by the bytecode - our `None` is from the implicit `return None` at the end |\n",
    "| `code.co_filename` | `filename` or `<stdin>` or `<ipython-input-#-xxx>` | file in which the function was defined |\n",
    "| `code.co_firstlineno` | `1` | line of the file the first line of the function appears |\n",
    "| `code.co_flags` | `79` | AND of compiler-specific binary flags whose internal meaning is (mostly) opaque to us |\n",
    "| `code.co_freevars` | `()` | tuple containing the names of free variables |\n",
    "| `code.co_kwonlyargcount` | `2` | number of keyword-only arguments |\n",
    "| `code.co_lnotab` | `b'\\x00\\x02\\x10\\x01\\x0c\\x01\\x12\\x01\\x04\\x01\\x12\\x02'` | string encoding the mapping from bytecode offsets to line numbers |\n",
    "| `code.co_name` | `\"all_together\"` | the function name  |\n",
    "| `code.co_names` | `('print', 'sum', 'items', 'format')` | tuple containing the names used by the bytecode |\n",
    "| `code.co_nlocals` | `9` | number of local variables used by the function (including arguments) |\n",
    "| `code.co_stacksize` | `7` | required stack size (including local variables) |\n",
    "| `code.co_varnames` | `('x', 'y', 'z', 'indent', 'spaces', 'nums', 'options', 'k', 'v')` | tuple containing the names of the local variables (starting with the argument names) |\n",
    "\n",
    "More info on this, and on all types in Python, can be found at the [data model reference](https://docs.python.org/3/reference/datamodel.html#the-standard-type-hierarchy). For code objects, you have to scroll down to \"Internal Types.\""
   ]
  },
  {
   "cell_type": "code",
   "execution_count": 109,
   "metadata": {},
   "outputs": [
    {
     "name": "stdout",
     "output_type": "stream",
     "text": [
      "3\n",
      "()\n",
      "b't\\x00|\\x00|\\x01|\\x02\\x14\\x00\\x17\\x00\\x83\\x01\\x01\\x00t\\x00t\\x01|\\x05\\x83\\x01\\x83\\x01\\x01\\x00x@|\\x06j\\x02\\x83\\x00D\\x00]4\\\\\\x02}\\x07}\\x08|\\x03rDt\\x00d\\x01j\\x03|\\x07|\\x08\\x83\\x02\\x83\\x01\\x01\\x00q&t\\x00d\\x02j\\x03|\\x07d\\x03|\\x04\\x14\\x00|\\x08\\x83\\x03\\x83\\x01\\x01\\x00q&W\\x00d\\x04S\\x00'\n",
      "('A useless comment', '{}\\t{}', '{}{}{}', ' ', None)\n",
      "<ipython-input-109-e323585adf3a>\n",
      "1\n",
      "79\n",
      "()\n",
      "2\n",
      "b'\\x00\\x02\\x10\\x01\\x0c\\x01\\x12\\x01\\x04\\x01\\x12\\x02'\n",
      "all_together\n",
      "('print', 'sum', 'items', 'format')\n",
      "9\n",
      "6\n",
      "('x', 'y', 'z', 'indent', 'spaces', 'nums', 'options', 'k', 'v')\n"
     ]
    }
   ],
   "source": [
    "def all_together(x, y, z=1, *nums, indent=True, spaces=4, **options):\n",
    "    \"\"\"A useless comment\"\"\"\n",
    "    print(x + y * z)\n",
    "    print(sum(nums))\n",
    "    for k, v in options.items():\n",
    "        if indent:\n",
    "            print(\"{}\\t{}\".format(k, v))\n",
    "        else:\n",
    "            print(\"{}{}{}\".format(k, \" \" * spaces, v))\n",
    "            \n",
    "code = all_together.__code__\n",
    "\n",
    "print(code.co_argcount)\n",
    "print(code.co_cellvars)\n",
    "print(code.co_code)\n",
    "print(code.co_consts)\n",
    "print(code.co_filename)\n",
    "print(code.co_firstlineno)\n",
    "print(code.co_flags)\n",
    "print(code.co_freevars)\n",
    "print(code.co_kwonlyargcount)\n",
    "print(code.co_lnotab)\n",
    "print(code.co_name)\n",
    "print(code.co_names)\n",
    "print(code.co_nlocals)\n",
    "print(code.co_stacksize)\n",
    "print(code.co_varnames)"
   ]
  },
  {
   "cell_type": "markdown",
   "metadata": {},
   "source": [
    "##### Security\n",
    "\n",
    "As we briefly mentioned in class, this can lead to a pretty glaring security vulnerability. Namely, the code object on a given function can be hot-swapped for the code object of another (perhaps malicious function) at runtime!"
   ]
  },
  {
   "cell_type": "code",
   "execution_count": 110,
   "metadata": {},
   "outputs": [
    {
     "name": "stdout",
     "output_type": "stream",
     "text": [
      "You're... not awesome. OOOOH\n",
      "None\n"
     ]
    }
   ],
   "source": [
    "def nice(): print(\"You're awesome!\")\n",
    "def mean(): print(\"You're... not awesome. OOOOH\")\n",
    "\n",
    "# Overwrite the code object for nice\n",
    "nice.__code__ = mean.__code__\n",
    "\n",
    "print(nice())  # prints \"You're... not awesome. OOOOH\""
   ]
  },
  {
   "cell_type": "markdown",
   "metadata": {},
   "source": [
    "##### `dis` module\n",
    "\n",
    "The `dis` module, for \"disassemble,\" exports a `dis` function that allows us to disassemble Python byte code (at least, for Python distributions implemented in CPython for existing versions). The disassembled code isn't exactly normal assembly code, but rather is a specialized Python syntax\n",
    "\n",
    "```Python\n",
    "def gcd(a, b):\n",
    "    while b:\n",
    "        a, b = b, a % b\n",
    "    return a\n",
    "    \n",
    "import dis\n",
    "dis.dis(gcd)\n",
    "\"\"\"\n",
    "  2           0 SETUP_LOOP              27 (to 30)\n",
    "        >>    3 LOAD_FAST                1 (b)\n",
    "              6 POP_JUMP_IF_FALSE       29\n",
    "\n",
    "  3           9 LOAD_FAST                1 (b)\n",
    "             12 LOAD_FAST                0 (a)\n",
    "             15 LOAD_FAST                1 (b)\n",
    "             18 BINARY_MODULO\n",
    "             19 ROT_TWO\n",
    "             20 STORE_FAST               0 (a)\n",
    "             23 STORE_FAST               1 (b)\n",
    "             26 JUMP_ABSOLUTE            3\n",
    "        >>   29 POP_BLOCK\n",
    "\n",
    "  4     >>   30 LOAD_FAST                0 (a)\n",
    "             33 RETURN_VALUE\n",
    "\"\"\"\n",
    "```\n",
    "\n",
    "Details on the instructions themselves can be found [here](https://docs.python.org/3/library/dis.html#python-bytecode-instructions).\n",
    "You can read more about the `dis` module [here](https://docs.python.org/3/library/dis.html)."
   ]
  },
  {
   "cell_type": "code",
   "execution_count": 111,
   "metadata": {},
   "outputs": [
    {
     "name": "stdout",
     "output_type": "stream",
     "text": [
      "  2           0 SETUP_LOOP              22 (to 24)\n",
      "        >>    2 LOAD_FAST                1 (b)\n",
      "              4 POP_JUMP_IF_FALSE       22\n",
      "\n",
      "  3           6 LOAD_FAST                1 (b)\n",
      "              8 LOAD_FAST                0 (a)\n",
      "             10 LOAD_FAST                1 (b)\n",
      "             12 BINARY_MODULO\n",
      "             14 ROT_TWO\n",
      "             16 STORE_FAST               0 (a)\n",
      "             18 STORE_FAST               1 (b)\n",
      "             20 JUMP_ABSOLUTE            2\n",
      "        >>   22 POP_BLOCK\n",
      "\n",
      "  4     >>   24 LOAD_FAST                0 (a)\n",
      "             26 RETURN_VALUE\n"
     ]
    }
   ],
   "source": [
    "def gcd(a, b):\n",
    "    while b:\n",
    "        a, b = b, a % b\n",
    "    return a\n",
    "    \n",
    "import dis\n",
    "dis.dis(gcd)"
   ]
  },
  {
   "cell_type": "markdown",
   "metadata": {},
   "source": [
    "#### Call (`__call__`)\n",
    "\n",
    "All Python functions have a `__call__` attribute, which is the actual object called when you use parentheses to \"call\" a function. That is,"
   ]
  },
  {
   "cell_type": "code",
   "execution_count": 112,
   "metadata": {},
   "outputs": [
    {
     "name": "stdout",
     "output_type": "stream",
     "text": [
      "Hello world!\n",
      "Hello world!\n"
     ]
    }
   ],
   "source": [
    "def greet(): print(\"Hello world!\")\n",
    "\n",
    "greet() # \"Hello world!\"\n",
    "# is just syntactic sugar for\n",
    "greet.__call__()  # \"Hello world!\""
   ]
  },
  {
   "cell_type": "markdown",
   "metadata": {},
   "source": [
    "This means that any object (including instances of custom classes) with a `__call__` method can use the parenthesized function call syntax. Which is why we wrote the following to construct a callable `Polynomial` class:\n",
    "\n",
    "```Python\n",
    "class Polynomial:\n",
    "    def __init__(self, coeffs):\n",
    "        \"\"\"Store the coefficients...\"\"\"\n",
    "        \n",
    "    def __call__(self, x):\n",
    "        \"\"\"Compute f(x)...\"\"\"\n",
    "\n",
    "\n",
    "# The polynomial f(x) = 4 + 4 * x + 4 * x ** 2\n",
    "f = Polynomial(4, 4, 1)\n",
    "f(5)  # Really, this is f.__call__(5)\n",
    "```"
   ]
  },
  {
   "cell_type": "markdown",
   "metadata": {},
   "source": [
    "#### Name Information (`__module__`, `__name__`, and `__qualname__`)\n",
    "\n",
    "Python functions also store some name information about a function, generally for the purposes of friendly printing.\n",
    "\n",
    "`__module__` refers to the module that was active at the time the function was defined. Any functions defined in the interactive interpreter, or run as as a script, will have `__module__ == '__main__'`, but imported modules will have their `__module__` attribute set to the module name. For example, `math.sqrt.__module__` is `\"math\"`.\n",
    "\n",
    "`__name__` is the function's name. Nothing special here.\n",
    "\n",
    "`__qualname__`, which stands for \"qualified name,\" only differs from `__name__` when you're dealing with nested functions, which we'll talk about more Week 4.\n"
   ]
  },
  {
   "cell_type": "markdown",
   "metadata": {},
   "source": [
    "## Submit your code\n",
    "\n",
    "Well done making it to the end!\n",
    "\n",
    "Submit your code on Arche. Like always:\n",
    "\n",
    "1. Convert your submission to a python script\n",
    " \n",
    "     You can do so by typing `jupyter nbconvert --to script {YOUR_NOTEBOOK}.ipynb` into the command line.\n",
    "     \n",
    "     Alternatively, you can use Jupyter's interface to create your file.\n",
    "     \n",
    "     - On Jupyter Notebook, go to *File -> Download As -> Python (.py)*\n",
    "     \n",
    "     - On Jupyter Lab, go to *File -> Export Notebook As... -> Export Notebook to Executable Script*\n",
    "2. Rename it properly: tp6_fname_lname.py\n",
    "3. Make sure everything works without errors by running it once: `python3 tp7_fname_lname.py`"
   ]
  },
  {
   "cell_type": "markdown",
   "metadata": {},
   "source": [
    "> Stolen from CS Stanford. With <3 by @sredmond\n",
    "\n",
    "> Adapted with gorillas by tmickus"
   ]
  },
  {
   "cell_type": "code",
   "execution_count": null,
   "metadata": {},
   "outputs": [],
   "source": []
  },
  {
   "cell_type": "code",
   "execution_count": null,
   "metadata": {},
   "outputs": [],
   "source": []
  }
 ],
 "metadata": {
  "kernelspec": {
   "display_name": "Python 3",
   "language": "python",
   "name": "python3"
  },
  "language_info": {
   "codemirror_mode": {
    "name": "ipython",
    "version": 3
   },
   "file_extension": ".py",
   "mimetype": "text/x-python",
   "name": "python",
   "nbconvert_exporter": "python",
   "pygments_lexer": "ipython3",
   "version": "3.6.10"
  }
 },
 "nbformat": 4,
 "nbformat_minor": 4
}
