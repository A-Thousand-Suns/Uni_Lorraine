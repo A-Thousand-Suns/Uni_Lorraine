{
 "cells": [
  {
   "cell_type": "markdown",
   "metadata": {},
   "source": [
    "# Lab 4: Lists, tuples and dicts"
   ]
  },
  {
   "cell_type": "markdown",
   "metadata": {},
   "source": [
    "## Overview\n",
    "\n",
    "Welcome to your fourth lab! \n",
    "\n",
    "The primary goal of this lab is to focus on using data structures to solve some interesting problems. If you're curious and want to get to the bottom of what we're presenting here, go [check out Sequence types and Mapping types](https://docs.python.org/3/library/stdtypes.html)!\n",
    "\n",
    "You're welcome to work in groups or individually. Remember to have some fun! Make friends and maybe relax a little too. \n",
    "\n",
    "**Note: These labs are *designed* to be long! Work through as much as you can in the time allotted, but also feel free to skip from question to question freely. The extra problems are intended to be extra practice, if you want to hone your Python skills even more.**\n",
    "\n",
    "\n",
    "As always, remember to submit your notebook as a script once you're done!\n",
    "\n",
    "If you're done early: &#9971; Golf your functions! Make sure not to change the function names, so as to not mess up with the automatic grading down the line.\n",
    "\n",
    "Above all, have fun playing with Python! Enjoy. "
   ]
  },
  {
   "cell_type": "markdown",
   "metadata": {},
   "source": [
    "## Lists\n",
    "\n",
    "\n",
    "Lists are one of python's most basic data structures. They correspond to mutable ordered sequences. \n",
    "\n",
    "- As sequences, they contain a series of elements.\n",
    "- As they are ordered, elements are guaranteed to come up in a certain order when you iterate over the list\n",
    "- As they are mutable, you can add and remove things from a list without having to create a new one."
   ]
  },
  {
   "cell_type": "markdown",
   "metadata": {},
   "source": [
    "### What's in it for you?\n",
    "\n",
    "Predict what the following lines of Python will do. Then, run the code block below to see if they match what you expect:\n",
    "\n",
    "```Python\n",
    "s = [0] * 3\n",
    "print(s)\n",
    "s[0] += 1\n",
    "print(s)\n",
    "\n",
    "s = [''] * 3\n",
    "print(s)\n",
    "s[0] += 'a'\n",
    "print(s)\n",
    "\n",
    "s = [[]] * 3\n",
    "print(s)\n",
    "s[0] += [1]\n",
    "print(s)\n",
    "```"
   ]
  },
  {
   "cell_type": "code",
   "execution_count": 1,
   "metadata": {},
   "outputs": [
    {
     "name": "stdout",
     "output_type": "stream",
     "text": [
      "[0, 0, 0]\n",
      "[1, 0, 0]\n",
      "['', '', '']\n",
      "['a', '', '']\n",
      "[[], [], []]\n",
      "[[1], [1], [1]]\n"
     ]
    }
   ],
   "source": [
    "# Explore the elements of lists. Is the output what you expect?\n",
    "s = [0] * 3\n",
    "print(s)\n",
    "s[0] += 1\n",
    "print(s)\n",
    "\n",
    "s = [''] * 3\n",
    "print(s)\n",
    "s[0] += 'a'\n",
    "print(s)\n",
    "\n",
    "s = [[]] * 3\n",
    "print(s)\n",
    "s[0] += [1]\n",
    "print(s)"
   ]
  },
  {
   "cell_type": "markdown",
   "metadata": {},
   "source": [
    "Why is this happening? Consider using the `id` function to investigate further. What happens when we replace the second-to-last line with `s[0] = s[0] + [1]`? What if we replace the line with `s[0].append(1)`?"
   ]
  },
  {
   "cell_type": "markdown",
   "metadata": {},
   "source": [
    "### Manipulating lists\n",
    "\n",
    "Broadly speaking, there are three things you might want to do with lists:\n",
    "\n",
    "1. add elements\n",
    "1. remove elements\n",
    "1. inspect elements\n",
    "\n",
    "All of these can be done in a number of different ways. Here are a few main ones:\n",
    "\n",
    "1. To **add** an element, you can use `my_list.append(elem)`. To add all the elements of some other sequence at once, you can try `my_list.extend(other_seq)`. Related to that, the addition operator `+` for lists corresponds to concatenation, and the multiplication operator `*` corresponds to duplication (remember how it went for strings?)\n",
    "1. To **remove** elements by value, you can use `my_list.remove('some_value')`, which will delete the first occurrence of that value in your list. Alternatively, you can remove elements based on their index: `del my_list[idx]` will remove the value at index `idx`; `elem = my_list.pop(idx)` will remove the value at index `idx` and place it in the variable `elem` instead.\n",
    "1. To **access** the value at a given index `idx`, we generally use indexing: `my_value = my_list[idx]`.\n",
    "\n",
    "Try predicting what the code below will print!"
   ]
  },
  {
   "cell_type": "code",
   "execution_count": null,
   "metadata": {},
   "outputs": [],
   "source": [
    "chimps = ([\"chimp\", \"peanuts\"] * 3)\n",
    "\n",
    "chimps.remove(\"chimp\")\n",
    "del chimps[1]\n",
    "something = chimps.pop(-2)\n",
    "\n",
    "# what will this print?\n",
    "print(something, chimps)"
   ]
  },
  {
   "cell_type": "markdown",
   "metadata": {},
   "source": [
    "### Slicing and unpacking\n",
    "\n",
    "Another common type of operation with lists (or *ordered* sequences in general) is to iterate over them. This is very frequently done with **slicing**:\n",
    "\n",
    "```Python\n",
    ">>> daily_articles = ['no peanut', 'one peanut', 'two peanuts', 'three peanuts', 'peanuts stolen from Bond', 'evil plan to destroy Paris']\n",
    ">>> daily_articles[1:3]\n",
    "['one peanut', 'two peanuts']\n",
    ">>> daily_articles[1:-2]\n",
    "['one peanut', 'two peanuts', 'three peanuts']\n",
    ">>> daily_articles[::2]\n",
    "['no peanuts', 'two peanuts', 'peanuts stolen from Bond']\n",
    ">>> daily_articles[-2::-2]\n",
    "['peanuts stolen from Bond', 'two peanuts', 'no peanuts']\n",
    ">>> daily_articles[::-1]\n",
    "['evil plan to destroy Paris', 'peanuts stolen from Bond', 'three peanuts', 'two peanuts', 'one peanut', 'no peanuts']\n",
    "```\n",
    "\n",
    "As you can see, `my_list[::-1]` traverses the list in reverse: it starts from the end. Another function you can use for that is `reversed()`.\n",
    "\n",
    "Another very common thing to do with ordered sequence is **unpacking** them.\n",
    "```Python\n",
    ">>> the_tribe = [\"I am a chimp!\", \"I am a gorilla!\", \"I am a mandrill!\", \"I am tarzan!\"]\n",
    ">>> chimp, gorilla, mandrill, tarzan = the_tribe\n",
    ">>> chimp\n",
    "'I am a chimp!'\n",
    ">>> gorilla\n",
    "'I am a gorilla!'\n",
    ">>> mandrill\n",
    "'I am a mandrill!'\n",
    ">>> tarzan\n",
    "'I am tarzan!'\n",
    ">>> *monkeys, weird_monkey = the_tribe\n",
    ">>> monkeys\n",
    "['I am a chimp!', 'I am a gorilla!', 'I am a mandrill!']\n",
    ">>> weird_monkey\n",
    "'I am tarzan!'\n",
    ">>> best, *rest, hairless  = the_tribe\n",
    ">>> best\n",
    "'I am a chimp!'\n",
    ">>> rest\n",
    "['I am a gorilla!', 'I am a mandrill!']\n",
    ">>> hairless\n",
    "'I am tarzan!'\n",
    "```\n",
    "\n",
    "**Note:** _The \"splat\" operator_ `*` _allows you to group multiple elements together when unpacking. \n",
    "You can only use that \"splat\" operator once per unpacking!_\n",
    "\n",
    "#### Exercise #1: Sifting through\n",
    "\n",
    "Using slices, write a function called `every_third(l)` that takes a list `l` as argument and returns every third element in the list.\n",
    "\n",
    "Write a function called `first_and_last(l)` that returns a list containing only the first and last element of the argument list `l`."
   ]
  },
  {
   "cell_type": "code",
   "execution_count": 7,
   "metadata": {},
   "outputs": [],
   "source": [
    "# write your code here\n",
    "def every_third(l):\n",
    "    result = l[2::3]\n",
    "    return result\n",
    "\n",
    "def first_and_last(l):\n",
    "    if len(l)==0:\n",
    "        result = []\n",
    "    elif len(l)==1:\n",
    "        result = l[:]\n",
    "    else:\n",
    "        result = []\n",
    "        result.append(l[0])\n",
    "        result.append(l[len(l)-1])\n",
    "    return result\n",
    "\n"
   ]
  },
  {
   "cell_type": "markdown",
   "metadata": {},
   "source": [
    "## Tuples\n",
    "\n",
    "Tuples are another very frequently used data structure in python. Unlike lists, they are *immutable* ordered sequences.\n",
    "\n",
    "As they are ordered sequences, you can use slicing, indexing and unpacking with tuples. As they are immutable, you can also use (some) tuples as dictionary keys.\n",
    "\n",
    "Tuples are omnipresent in python code. Every time you return multiple values at once, you're in fact returning a tuple and unpacking it down the line:\n",
    "\n",
    "```Python\n",
    "def chimp_life(peanuts):\n",
    "    ...\n",
    "    # this is strictly equivalent to:\n",
    "    # return (chimp_action, remaining_peanuts)\n",
    "    return chimp_action, remaining_peanuts\n",
    "\n",
    "# this is actually just unpacking!\n",
    "chimp_action, peanuts = chimp_life(peanuts)\n",
    "```\n",
    "\n",
    "In fact, any value followed by a comma is interpreted as a tuple:\n",
    "```Python\n",
    ">>> chimp = 'chimp'\n",
    ">>> type(chimp)\n",
    "<class 'str'>\n",
    ">>> chimp = 'chimp',\n",
    ">>> type(chimp)\n",
    "<class 'tuple'>\n",
    "```\n",
    "\n",
    "You may also add parentheses around a tuple:\n",
    "```Python\n",
    ">>> monkeys_a = 'chimps', 'mandrill'\n",
    ">>> monkeys_b = 'chimps', 'mandrill',\n",
    ">>> monkeys_c = ('chimps', 'mandrill')\n",
    ">>> monkeys_d = ('chimps', 'mandrill',)\n",
    ">>> monkeys_a == monkeys_b == monkeys_c == monkeys_d\n",
    "True\n",
    "```\n",
    "\n",
    "Parentheses are required when you create tuples of tuples, or when creating an empty tuple\n",
    "```Python\n",
    ">>> monkeys_e = ('chimps', 'mandrill'),\n",
    ">>> monkeys_a == monkeys_e\n",
    "False\n",
    ">>> empty = ()\n",
    ">>> type(empty)\n",
    "<class 'tuple'>\n",
    "```\n",
    "\n",
    "\n",
    "### Exercise #2: GCD\n",
    "\n",
    "Write a function to compute the [GCD](https://en.wikipedia.org/wiki/Greatest_common_divisor) of two positive integers. You can freely use the fact that `gcd(a, b)` is mathematically equal to `gcd(b, a % b)`, and that `gcd(a, 0) == a`.\n",
    "\n",
    "If it helps, starts by assuming that `a >= b` if you'd like, but your final function should be able to handle all cases, including when `a < b`.\n",
    "\n",
    "It is possible to accomplish this in three lines of Python code (or with extra cleverness, even fewer! Go and &#9971;!). Consider exploiting tuple packing and unpacking!\n",
    "\n",
    "*Note: The standard library has a `gcd` function. Avoid simply importing that function and using it here - the goal is to practice with tuple packing and unpacking!*"
   ]
  },
  {
   "cell_type": "code",
   "execution_count": 15,
   "metadata": {},
   "outputs": [
    {
     "data": {
      "text/plain": [
       "1"
      ]
     },
     "execution_count": 15,
     "metadata": {},
     "output_type": "execute_result"
    }
   ],
   "source": [
    "def gcd(a, b):\n",
    "    \"\"\"Compute the GCD of two positive integers.\"\"\"\n",
    "    if a==0 :\n",
    "        return b\n",
    "    if b==0:\n",
    "        return a\n",
    "    if a>=b:\n",
    "        small = b\n",
    "    else:\n",
    "        small = a\n",
    "        \n",
    "    for i in range(1, small+1):\n",
    "        if(a%i==0) and (b%i==0):\n",
    "            result = i\n",
    "    return result\n",
    "    \n",
    "gcd(10, 25) # => 5\n",
    "gcd(25, 10) # => 5\n",
    "\n",
    "gcd(14, 15) # => 1\n",
    "gcd(15, 14) # => 1\n",
    "\n",
    "gcd(3, 9) # => 3\n",
    "gcd(9, 3) # => 3\n",
    "\n",
    "gcd(1, 1) # => 1"
   ]
  },
  {
   "cell_type": "markdown",
   "metadata": {},
   "source": [
    "## Dictionaries\n",
    "\n",
    "Dictionaries (the `dict` type in python) are mappings that associate keys to values. \n",
    "\n",
    "Instead of using integers to index elements, as you would in a list, dictionaries allow you to use whatever value as a key. \n",
    "\n",
    "As such, you can use `del my_dict[key]` to remove a certain `key`, `value` pair from a dictionary\n",
    "\n",
    "The only two requirements for keys are that they need to be unique and hashable, i.e., immutable and composed only of immutable objects.\n",
    "\n",
    "You can retrieve only the keys as an ordered sequence using the `dict.keys()` method. The same thing applies for values with `dict.values()`. To get pairs of keys associated to values, you can use `dict.items()`.\n",
    "\n",
    "```Python\n",
    ">>> d = {'chimp': 'peanut', 'Bond': 'James'}\n",
    ">>> d.keys()\n",
    "dict_keys(['chimp', 'Bond'])\n",
    ">>> d.values()\n",
    "dict_values(['peanut', 'James'])\n",
    ">>> d.items()\n",
    "dict_items([('chimp', 'peanut'), ('Bond', 'James')])\n",
    "```\n",
    "\n",
    "### Exercise #3: Flip it!\n",
    "Consider this (naive) implementation of a dictionary comprehension that swaps the keys and values in a dictionary:\n",
    "\n",
    "```Python\n",
    "{value: key for key, value in dictionary.items()}\n",
    "```\n",
    "\n",
    "This approach will fail when there are two keys in the dictionary with the same value. Why will it fail?\n",
    "\n",
    "Write a function that properly reverses the keys and values of a dictionary - each key (originally a value) should map to a collection of values (originally keys) that mapped to it. For example,\n",
    "\n",
    "```Python\n",
    "flip_dict({\"CA\": \"US\", \"NY\": \"US\", \"ON\": \"CA\"})\n",
    "# => {\"US\": [\"CA\", \"NY\"], \"CA\": [\"ON\"]}\n",
    "```\n",
    "\n",
    "Note: there is a data structure in the `collections` module from the standard library called `defaultdict` which provides exactly this sort of functionality. You provide it a factory method for creating default values in the dictionary (in this case, a list.) You can read more about `defaultdict` and other `collections` data structures [here](https://docs.python.org/3/library/collections.html)."
   ]
  },
  {
   "cell_type": "code",
   "execution_count": 37,
   "metadata": {},
   "outputs": [
    {
     "data": {
      "text/plain": [
       "{'US': ['CA', 'NY'], 'CA': ['ON']}"
      ]
     },
     "execution_count": 37,
     "metadata": {},
     "output_type": "execute_result"
    }
   ],
   "source": [
    "def flip_dict(input_dict):\n",
    "    \"\"\"Reverse the keys and values of a dictionary.\"\"\"\n",
    "    result = {}\n",
    "    for value in input_dict.values():\n",
    "        new_value = [key for key in input_dict.keys() if input_dict[key] == value]\n",
    "        if(len(new_value)==1):\n",
    "            result[value] = new_value\n",
    "        else:\n",
    "            result[value] = new_value\n",
    "        \n",
    "    return result\n",
    "\n",
    "flip_dict({\"CA\": \"US\", \"NY\": \"US\", \"ON\": \"CA\"})\n",
    "# should print exactly {\"US\": [\"CA\", \"NY\"], \"CA\": [\"ON\"]}"
   ]
  },
  {
   "cell_type": "markdown",
   "metadata": {},
   "source": [
    "### Exercise #4: Flip it again!\n",
    "\n",
    "Write a function `merge_keys(input_dict)` that takes a `dict` as input and returns a copy of it, where keys mapping to the same value are now stored in a single tuple. For instance:\n",
    "\n",
    "```Python\n",
    "merge_keys({\"CA\": \"US\", \"NY\": \"US\", \"ON\": \"CA\"})\n",
    "# => {(\"CA\", \"NY\"):\"US\", \"ON\": \"CA\"}\n",
    "```\n",
    "In this flipped dictionary, keys can either be **strings** or **tuples of strings**.\n",
    "\n",
    "What will happen if you flip twice a dictionary whose keys you've previously merged, using the two functions `flip_dict(input_dict)` and `merge_keys(input_dict)`?\n"
   ]
  },
  {
   "cell_type": "code",
   "execution_count": 46,
   "metadata": {},
   "outputs": [
    {
     "name": "stdout",
     "output_type": "stream",
     "text": [
      "{('CA', 'NY'): 'US', 'ON': 'CA'}\n"
     ]
    },
    {
     "ename": "TypeError",
     "evalue": "unhashable type: 'list'",
     "output_type": "error",
     "traceback": [
      "\u001b[1;31m---------------------------------------------------------------------------\u001b[0m",
      "\u001b[1;31mTypeError\u001b[0m                                 Traceback (most recent call last)",
      "\u001b[1;32m<ipython-input-46-5bb92c81a1fe>\u001b[0m in \u001b[0;36m<module>\u001b[1;34m\u001b[0m\n\u001b[0;32m     14\u001b[0m \u001b[1;31m# should print exactly {(\"CA\", \"NY\"):\"US\", \"ON\": \"CA\"}\u001b[0m\u001b[1;33m\u001b[0m\u001b[1;33m\u001b[0m\u001b[1;33m\u001b[0m\u001b[0m\n\u001b[0;32m     15\u001b[0m \u001b[1;33m\u001b[0m\u001b[0m\n\u001b[1;32m---> 16\u001b[1;33m \u001b[0mprint\u001b[0m\u001b[1;33m(\u001b[0m\u001b[0mflip_dict\u001b[0m\u001b[1;33m(\u001b[0m\u001b[0mflip_dict\u001b[0m\u001b[1;33m(\u001b[0m\u001b[0mmerge_keys\u001b[0m\u001b[1;33m(\u001b[0m\u001b[1;33m{\u001b[0m\u001b[1;34m\"CA\"\u001b[0m\u001b[1;33m:\u001b[0m \u001b[1;34m\"US\"\u001b[0m\u001b[1;33m,\u001b[0m \u001b[1;34m\"NY\"\u001b[0m\u001b[1;33m:\u001b[0m \u001b[1;34m\"US\"\u001b[0m\u001b[1;33m,\u001b[0m \u001b[1;34m\"ON\"\u001b[0m\u001b[1;33m:\u001b[0m \u001b[1;34m\"CA\"\u001b[0m\u001b[1;33m}\u001b[0m\u001b[1;33m)\u001b[0m\u001b[1;33m)\u001b[0m\u001b[1;33m)\u001b[0m\u001b[1;33m)\u001b[0m\u001b[1;33m\u001b[0m\u001b[1;33m\u001b[0m\u001b[0m\n\u001b[0m\u001b[0;32m     17\u001b[0m \u001b[1;31m# print(flip_dict(merge_keys({\"CA\": \"US\", \"NY\": \"US\", \"ON\": \"CA\"})))\u001b[0m\u001b[1;33m\u001b[0m\u001b[1;33m\u001b[0m\u001b[1;33m\u001b[0m\u001b[0m\n\u001b[0;32m     18\u001b[0m \u001b[1;33m\u001b[0m\u001b[0m\n",
      "\u001b[1;32m<ipython-input-37-2f950cabef77>\u001b[0m in \u001b[0;36mflip_dict\u001b[1;34m(input_dict)\u001b[0m\n\u001b[0;32m      5\u001b[0m         \u001b[0mnew_value\u001b[0m \u001b[1;33m=\u001b[0m \u001b[1;33m[\u001b[0m\u001b[0mkey\u001b[0m \u001b[1;32mfor\u001b[0m \u001b[0mkey\u001b[0m \u001b[1;32min\u001b[0m \u001b[0minput_dict\u001b[0m\u001b[1;33m.\u001b[0m\u001b[0mkeys\u001b[0m\u001b[1;33m(\u001b[0m\u001b[1;33m)\u001b[0m \u001b[1;32mif\u001b[0m \u001b[0minput_dict\u001b[0m\u001b[1;33m[\u001b[0m\u001b[0mkey\u001b[0m\u001b[1;33m]\u001b[0m \u001b[1;33m==\u001b[0m \u001b[0mvalue\u001b[0m\u001b[1;33m]\u001b[0m\u001b[1;33m\u001b[0m\u001b[1;33m\u001b[0m\u001b[0m\n\u001b[0;32m      6\u001b[0m         \u001b[1;32mif\u001b[0m\u001b[1;33m(\u001b[0m\u001b[0mlen\u001b[0m\u001b[1;33m(\u001b[0m\u001b[0mnew_value\u001b[0m\u001b[1;33m)\u001b[0m\u001b[1;33m==\u001b[0m\u001b[1;36m1\u001b[0m\u001b[1;33m)\u001b[0m\u001b[1;33m:\u001b[0m\u001b[1;33m\u001b[0m\u001b[1;33m\u001b[0m\u001b[0m\n\u001b[1;32m----> 7\u001b[1;33m             \u001b[0mresult\u001b[0m\u001b[1;33m[\u001b[0m\u001b[0mvalue\u001b[0m\u001b[1;33m]\u001b[0m \u001b[1;33m=\u001b[0m \u001b[0mnew_value\u001b[0m\u001b[1;33m\u001b[0m\u001b[1;33m\u001b[0m\u001b[0m\n\u001b[0m\u001b[0;32m      8\u001b[0m         \u001b[1;32melse\u001b[0m\u001b[1;33m:\u001b[0m\u001b[1;33m\u001b[0m\u001b[1;33m\u001b[0m\u001b[0m\n\u001b[0;32m      9\u001b[0m             \u001b[0mresult\u001b[0m\u001b[1;33m[\u001b[0m\u001b[0mvalue\u001b[0m\u001b[1;33m]\u001b[0m \u001b[1;33m=\u001b[0m \u001b[0mnew_value\u001b[0m\u001b[1;33m\u001b[0m\u001b[1;33m\u001b[0m\u001b[0m\n",
      "\u001b[1;31mTypeError\u001b[0m: unhashable type: 'list'"
     ]
    }
   ],
   "source": [
    "def merge_keys(input_dict):\n",
    "    \"\"\"Merge keys to make dict more easily reversible.\"\"\"\n",
    "    result = {}\n",
    "    for value in input_dict.values():\n",
    "        new_key = tuple((key for key in input_dict.keys() if input_dict[key] == value))\n",
    "        if(len(new_key)==1):\n",
    "            result[new_key[0]] = value\n",
    "        else:\n",
    "            result[new_key] = value\n",
    "    \n",
    "    return result\n",
    "\n",
    "print(merge_keys({\"CA\": \"US\", \"NY\": \"US\", \"ON\": \"CA\"}))\n",
    "# should print exactly {(\"CA\", \"NY\"):\"US\", \"ON\": \"CA\"}\n",
    "\n",
    "# print(flip_dict(flip_dict(merge_keys({\"CA\": \"US\", \"NY\": \"US\", \"ON\": \"CA\"}))))\n",
    "# print(flip_dict(merge_keys({\"CA\": \"US\", \"NY\": \"US\", \"ON\": \"CA\"})))\n",
    "\n",
    "# what will be printed here?"
   ]
  },
  {
   "cell_type": "markdown",
   "metadata": {},
   "source": [
    "## Comprehensions\n",
    "\n",
    "### Read\n",
    "\n",
    "Predict the output of each of the following list comprehensions. After you have written down your hypothesis, run the code cell to see if you were correct. If you were incorrect, discuss with a partner why Python returns what it does.\n",
    "\n",
    "```Python\n",
    "[x for x in [1, 2, 3, 4]]\n",
    "[n - 2 for n in range(10)]\n",
    "[k % 10 for k in range(41) if k % 3 == 0]\n",
    "[s.lower() for s in ['PythOn', 'iS', 'cOoL'] if s[0] < s[-1]]\n",
    "\n",
    "# Something is fishy here. Can you spot it?\n",
    "arr = [[3,2,1], ['a','b','c'], [('do',), ['re'], 'mi']]\n",
    "print([el.append(el[0] * 4) for el in arr])  # What is printed?\n",
    "print(arr)  # What is the content of `arr` at this point?\n",
    "\n",
    "[letter for letter in \"pYthON\" if letter.isupper()]\n",
    "{len(w) for w in [\"its\", \"the\", \"remix\", \"to\", \"ignition\"]}\n",
    "```"
   ]
  },
  {
   "cell_type": "code",
   "execution_count": null,
   "metadata": {},
   "outputs": [],
   "source": [
    "# Predict the output of the following comprehensions. Does the output match what you expect?\n",
    "print([x for x in [1, 2, 3, 4]])\n",
    "print([n - 2 for n in range(10)])\n",
    "print([k % 10 for k in range(41) if k % 3 == 0])\n",
    "print([s.lower() for s in ['PythOn', 'iS', 'cOoL'] if s[0] < s[-1]])\n",
    "\n",
    "# Something is fishy here. Can you spot it?\n",
    "arr = [[3,2,1], ['a','b','c'], [('do',), ['re'], 'mi']]\n",
    "print([el.append(el[0] * 4) for el in arr])  # What is printed?\n",
    "print(arr)  # What is the content of `arr` at this point?\n",
    "\n",
    "print([letter for letter in \"pYthON\" if letter.isupper()])\n",
    "print({len(w) for w in [\"its\", \"the\", \"remix\", \"to\", \"ignition\"]})"
   ]
  },
  {
   "cell_type": "markdown",
   "metadata": {},
   "source": [
    "### Exercise #5: Write\n",
    "\n",
    "Write comprehensions to transform the input data structure into the output data structure:\n",
    "\n",
    "```Python\n",
    "[0, 1, 2, 3] -> [1, 3, 5, 7]  # Double and add one\n",
    "['apple', 'orange', 'pear'] -> ['A', 'O', 'P']  # Capitalize first letter\n",
    "['apple', 'orange', 'pear'] -> ['apple', 'pear']  # Contains a 'p'\n",
    "\n",
    "[\"TA_sam\", \"student_poohbear\", \"TA_guido\", \"student_htiek\"] -> [\"sam\", \"guido\"] # TA's names\n",
    "['apple', 'orange', 'pear'] -> [('apple', 5), ('orange', 6), ('pear', 4)] # words and their lengths in a list of tuples\n",
    "\n",
    "['apple', 'orange', 'pear'] -> {'apple': 5, 'orange': 6, 'pear': 4} # words and their lengths as dictionary key-value pairs\n",
    "```\n",
    "\n",
    "Make sure to use the pre-defined variables!"
   ]
  },
  {
   "cell_type": "code",
   "execution_count": 54,
   "metadata": {},
   "outputs": [
    {
     "name": "stdout",
     "output_type": "stream",
     "text": [
      "[1, 3, 5, 7]\n",
      "['Apple', 'Orange', 'Pear']\n",
      "['apple', 'pear']\n",
      "['TA_sam', 'TA_guido']\n",
      "[('apple', 5), ('orange', 6), ('pear', 4)]\n",
      "{'apple': 5, 'orange': 6, 'pear': 4}\n"
     ]
    }
   ],
   "source": [
    "nums = [0, 1, 2, 3]\n",
    "fruits = ['apple', 'orange', 'pear']\n",
    "people = [\"TA_sam\", \"student_poohbear\", \"TA_guido\", \"student_htiek\"]\n",
    "\n",
    "# Add your comprehensions here!\n",
    "nums_doubled_and_incremented = [2*x+1 for x in nums] # nums -> Double and add one\n",
    "\n",
    "fruits_capitalized_first_letter = [x.capitalize() for x in fruits] # fruits -> Capitalize first letter\n",
    "fruits_cotaining_p = [x for x in fruits if 'p' in x] # fruits -> Contains a 'p'\n",
    "\n",
    "people_TA_names = [name for name in people if name[0:2] == 'TA'] # people -> TA's names\n",
    "fruits_word_and_length_tuples = [(x, len(x)) for x in fruits ] # fruits -> words and their lengths in a list of tuples\n",
    "\n",
    "fruits_word_to_length_dict = {x:len(x) for x in fruits} # fruits -> words and their lengths as dictionary key-value pairs\n",
    "\n",
    "# print(nums_doubled_and_incremented)\n",
    "# print(fruits_capitalized_first_letter)\n",
    "# print(fruits_cotaining_p)\n",
    "# print(people_TA_names)\n",
    "# print(fruits_word_and_length_tuples)\n",
    "# print(fruits_word_to_length_dict)"
   ]
  },
  {
   "cell_type": "markdown",
   "metadata": {},
   "source": [
    "### Exercise #6: Pascal's Triangle\n",
    "Write a function that generates the next level of [Pascal's triangle](https://en.wikipedia.org/wiki/Pascal%27s_triangle) given a list that represents a row of Pascal’s triangle.\n",
    "\n",
    "```Python\n",
    "generate_pascal_row([1, 2, 1]) -> [1, 3, 3, 1]\n",
    "generate_pascal_row([1, 4, 6, 4, 1]) -> [1, 5, 10, 10, 5, 1]\n",
    "generate_pascal_row([]) -> [1]\n",
    "```\n",
    "\n",
    "As a reminder, each element in a row of Pascal's triangle is formed by summing the two elements in the previous row directly above (to the left and right) that elements. If there is only one element directly above, we only add that one. For example, the first 5 rows of Pascal's triangle look like:\n",
    "\n",
    "```\n",
    "    1\n",
    "   1 1\n",
    "  1 2 1\n",
    " 1 3 3 1\n",
    "1 4 6 4 1\n",
    "```\n",
    "\n",
    "You may find the `zip` function discussed briefly in lecture useful, along with some cleverness. Alternatively, you could solve this problem with `enumerate`. Avoid using a loop of the form `for i in len(range(row)):`.\n",
    "\n",
    "*Hint: Check out the diagram below. How could you use this insight to help complete this problem?*\n",
    "\n",
    "```\n",
    "  0 1 3 3 1\n",
    "+ 1 3 3 1 0\n",
    "-----------\n",
    "  1 4 6 4 1\n",
    "``` "
   ]
  },
  {
   "cell_type": "code",
   "execution_count": 62,
   "metadata": {},
   "outputs": [
    {
     "data": {
      "text/plain": [
       "[1]"
      ]
     },
     "execution_count": 62,
     "metadata": {},
     "output_type": "execute_result"
    }
   ],
   "source": [
    "def generate_pascal_row(row):\n",
    "    \"\"\"Generate the next row of Pascal's triangle.\"\"\"\n",
    "    if len(row)==0:\n",
    "        return [1]\n",
    "    list1 = row[:]\n",
    "    list2 = row[:]\n",
    "    list1.insert(0, 0)\n",
    "    list2.append(0)\n",
    "    result = []\n",
    "    for i in range(len(row)+1):\n",
    "        result.append(list1[i] + list2[i])\n",
    "        \n",
    "    return result\n",
    "\n",
    "generate_pascal_row([1, 2, 1])  # => [1, 3, 3, 1]\n",
    "generate_pascal_row([1, 4, 6, 4, 1])  # => [1, 5, 10, 10, 5, 1]\n",
    "generate_pascal_row([])  # => [1]\n"
   ]
  },
  {
   "cell_type": "markdown",
   "metadata": {},
   "source": [
    "#### Exercise #7: Pretty Printing Pascal (Bonus)\n",
    "\n",
    "Given a number `n`, print out the first `n` rows of Pascal's triangle, centering each line. You should use the `generate_pascal_row` function you  wrote previously. The Pascal's triangle with 1 row just contains the number `1`.\n",
    "\n",
    "To center a string in Python, you can use the `.center(width)` method. For example:\n",
    "\n",
    "```Python\n",
    ">>> 'chimp'.center(10)\n",
    "'  chimp   '\n",
    "```\n",
    "\n",
    "You can even specify an optional `fillchar` to fill with characters other than spaces!\n",
    "\n",
    "The hardest part of this problem is determining the width of the bottom row of the triangle. You'll need to generate all rows of the triangle and store them before you can print any of them."
   ]
  },
  {
   "cell_type": "code",
   "execution_count": 81,
   "metadata": {},
   "outputs": [
    {
     "name": "stdout",
     "output_type": "stream",
     "text": [
      "         1         \n",
      "        1 1        \n",
      "       1 2 1       \n",
      "      1 3 3 1      \n",
      "     1 4 6 4 1     \n",
      "   1 5 10 10 5 1   \n",
      "  1 6 15 20 15 6 1 \n",
      "1 7 21 35 35 21 7 1\n"
     ]
    }
   ],
   "source": [
    "def print_pascal_triangle(n):\n",
    "    \"\"\"Print the first n rows of Pascal's triangle.\"\"\"\n",
    "    result = []\n",
    "    all_str = []\n",
    "    for i in range(n):\n",
    "        str_result = ''\n",
    "        result = generate_pascal_row(result)\n",
    "        for num in result:\n",
    "            str_result += str(num) + ' '\n",
    "        all_str.append(str_result[:-1])\n",
    "        \n",
    "        \n",
    "    for cell in all_str:\n",
    "        print(cell.center(len(all_str[n-1])))\n",
    "        \n",
    "\n"
   ]
  },
  {
   "cell_type": "markdown",
   "metadata": {},
   "source": [
    "## Even More Bonus Problems\n",
    "\n",
    "*Only attempt to solve these bonus problems if you've finished the rest of the lab. Bonus problems are intentionally much harder than the other lab problems.*"
   ]
  },
  {
   "cell_type": "markdown",
   "metadata": {},
   "source": [
    "### Exercise #8: Polygon Collision\n",
    "\n",
    "Given two polygons in the form of lists of 2-tuples, determine whether the two polygons intersect.\n",
    "\n",
    "Formally, a polygon is represented by a list of (x, y) tuples, where each (x, y) tuple is a vertex of the polygon. Edges are assumed to be between adjacent vertices in the list, and the last vertex is connected to the first. For example, the unit square would be represented by\n",
    "\n",
    "```\n",
    "square = [(0,0), (0,1), (1,1), (1,0)]\n",
    "```\n",
    "\n",
    "You can assume that the polygon described by the provided list of tuples is not self-intersecting, but do not assume that it is convex.\n",
    "\n",
    "**Note: this is a *hard* problem. Quite hard.**"
   ]
  },
  {
   "cell_type": "code",
   "execution_count": 86,
   "metadata": {},
   "outputs": [
    {
     "name": "stdout",
     "output_type": "stream",
     "text": [
      "[(0, 1), (1, 0), (0, -1), (1, 0)] [(0.5, 2), (0.5, -2), (1, 0)]\n",
      "True\n"
     ]
    }
   ],
   "source": [
    "def polygon_collision(poly1, poly2):\n",
    "    edges_poly1 = []\n",
    "    edges_poly2 = []\n",
    "    \n",
    "    for index in range(len(poly1)-1):\n",
    "        edges_poly1.append((poly1[index+1][0]-poly1[index][0], poly1[index+1][1]-poly1[index][1]))\n",
    "    edges_poly1.append((poly1[len(poly1)-1][0]-poly1[0][0], poly1[len(poly1)-1][1]-poly1[0][1]))\n",
    "        \n",
    "    for index in range(len(poly2)-1):\n",
    "        edges_poly2.append((poly2[index+1][0]-poly2[index][0], poly2[index+1][1]-poly2[index][1]))\n",
    "    edges_poly2.append((poly1[len(poly2)-1][0]-poly2[0][0], poly2[len(poly2)-1][1]-poly2[0][1]))\n",
    "        \n",
    "#     print(edges_poly1, edges_poly2)\n",
    "    \n",
    "    return True\n",
    "\n",
    "unit_square = [(0,0), (0,1), (1,1), (1,0)]\n",
    "triangle = [(0,0), (0.5,2), (1,0)]\n",
    "\n",
    "print(polygon_collision(unit_square, triangle))  # => True"
   ]
  },
  {
   "cell_type": "markdown",
   "metadata": {},
   "source": [
    "## Done Early?\n",
    "\n",
    "Skim [Python’s Style Guide](https://www.python.org/dev/peps/pep-0008/), keeping the Zen of Python in mind. Feel free to skip portions of the style guide that cover material we haven't yet touched on in this class, but it's always good to start with an overview of good style."
   ]
  },
  {
   "cell_type": "markdown",
   "metadata": {},
   "source": [
    "## Submitting Labs\n",
    "\n",
    "Alright, you did it! By now you should know the drill... Don't forget to submit your lab through Arche once you're done. And remember:\n",
    "\n",
    " 1. **Convert it** to python script (`jupyter nbconvert --to script {YOUR_NOTEBOOK}.ipynb`)\n",
    " 1. **Test it** to verify it doesn't crash\n",
    " 1. **Name it** correctly so it can be automatically graded (Jane Doe's submission for this lab should be called `tp4_jane_doe.py`)\n",
    "\n",
    "\n",
    "*Adapted from CS41's labs.*\n",
    "\n",
    "*They credit Puzzling.SE (specifically [JLee](https://puzzling.stackexchange.com/users/463/jlee)), ProjectEuler and InterviewCake for several problem ideas*"
   ]
  },
  {
   "cell_type": "markdown",
   "metadata": {},
   "source": [
    "> With <3 by @sredmond\n",
    "\n",
    "> With chimps by tmickus"
   ]
  }
 ],
 "metadata": {
  "kernelspec": {
   "display_name": "Python 3",
   "language": "python",
   "name": "python3"
  },
  "language_info": {
   "codemirror_mode": {
    "name": "ipython",
    "version": 3
   },
   "file_extension": ".py",
   "mimetype": "text/x-python",
   "name": "python",
   "nbconvert_exporter": "python",
   "pygments_lexer": "ipython3",
   "version": "3.6.10"
  }
 },
 "nbformat": 4,
 "nbformat_minor": 4
}
