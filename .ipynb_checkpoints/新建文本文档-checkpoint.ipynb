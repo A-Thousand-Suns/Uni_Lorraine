{
 "cells": [
  {
   "cell_type": "markdown",
   "metadata": {},
   "source": [
    "# Lab 1: Welcome to Python!"
   ]
  },
  {
   "cell_type": "markdown",
   "metadata": {},
   "source": [
    "## Goals\n",
    "Welcome to your first lab day! These practical sessions are designed to be your opportunity to experiment with Python and gain hands-on experience with the language.\n",
    "\n",
    "The primary goal of this lab is to ensure that your Python installation process went smoothly, and that there are no lingering Python 3 bugs floating around. Don't be shy, and make sure to speak out if you encounter an issues: tutors are here to help.\n",
    "\n",
    "This lab also gives you the chance to write what might be your first programs in Python and allows you to experiment with both scripts and with the interactive interpreter!\n",
    "\n",
    "These problems are not intended to be algorithmically challenging - just ways to flex your new Python 3 muscles. Even if the problems seem simple, work through them quickly, and then you're free to go. \n",
    "\n",
    "As always, have fun, and enjoy the (remainder of the) class period!"
   ]
  },
  {
   "cell_type": "markdown",
   "metadata": {},
   "source": [
    "## Naming conventions\n",
    "\n",
    "We've adapted the labs you'll be working on from Stanford's CS41 materials. One of the things we'll be doing differently is the grading process. For your practicals, we'll be relying on automatic grading. \n",
    " + On your side, the first thing you need to make sure of is that you've submitted your lab **as a python script**.\n",
    " + To convert a Jupyter notebook into a script, use the command `jupyter nbconvert --to script {YOUR_NOTEBOOK}.ipynb`.\n",
    " + You must ensure that your final python script is correctly named `tp{SESSION_NUMBER}_{YOUR_FIRSTNAME}_{YOUR_LASTNAME}.py`, in lowercase. For instance, Jane Doe's submission for this lab should be called `tp1_jane_doe.py`.\n",
    " + Within the code, you will also need to follow namingrequirements **strictly**. If the instructions ask for a function with a specfic name, make sure your function has that exact name. If you are asked to declare a variable with a specific name, _again_: make sure to match the instructions **exactly**.\n",
    " \n"
   ]
  },
  {
   "cell_type": "markdown",
   "metadata": {},
   "source": [
    "### A first exercise to make sure you get the point:\n",
    "\n",
    "* Declare a variable called `something_very_important` that stores the value `42`"
   ]
  },
  {
   "cell_type": "code",
   "execution_count": 1,
   "metadata": {},
   "outputs": [],
   "source": [
    "# write your code here\n",
    "something_very_important = 42"
   ]
  },
  {
   "cell_type": "markdown",
   "metadata": {},
   "source": [
    "* Create a function called `my_add_function(a, b)`, that takes two integers and returns their sum:"
   ]
  },
  {
   "cell_type": "code",
   "execution_count": null,
   "metadata": {},
   "outputs": [],
   "source": [
    "# write your code here"
   ]
  },
  {
   "cell_type": "markdown",
   "metadata": {},
   "source": [
    "**NB:** You might have noticed that we name functions and variables with lowercased words separated by underscores (`_`). It's a naming convention widely shared across the Python community, and it's good practice for you to also follow this pattern!"
   ]
  },
  {
   "cell_type": "markdown",
   "metadata": {},
   "source": [
    "## Common mistakes\n",
    "\n",
    "Here are a list of mistakes we frequently encounter when reviewing your work.\n",
    "\n",
    "1. `print(result)` **instead of** `return result`. While these two might seem to produce the same thing, they are actually quite different. Whatever you pass to the `print()` function will be displayed on screen. When you use the `return` keyword, you stop the execution of a function and pass on its result to the script for further work.\n",
    "1. **Type mismatches!** When you test a function you've implemented, make sure that the arguments are of the correct type. For instance, the string `\"42\"` is different from the integer `42`. Python has a function `type(x)` that will tell you the type of the argument `x`.\n",
    "1. problems with Jupyter code **cells execution order**. While Jupyter is awesome when it comes to fiddling with script, often, you may be tempted to edit some code you've written in a previous cell, run this previous cell, and then go back to work wherever you were before that. As a result, other cells that depended on the previous implementation might cease to function properly! As a rule of thumb, you should make sure that cells are executed from top to bottom. **Tip:** the number in square brackets next to a code cell corresponds to the order in which you've ran the code cells.\n",
    "1. **Not testing your code after you've tweaked it.** Many, many silly mistakes come from not running your code once after doing \"just a simple modification\". Always test!"
   ]
  },
  {
   "cell_type": "markdown",
   "metadata": {},
   "source": [
    "### Another exercise to make sure you get the point\n",
    "\n",
    "Have a look at the instructions in the following code cell, and try to predict what they will produce. You can run the code to check your answers using the `Run` button."
   ]
  },
  {
   "cell_type": "code",
   "execution_count": null,
   "metadata": {},
   "outputs": [],
   "source": [
    "print(something_very_important) == my_add_function(32, 10)\n",
    "my_add_function(\"32\", \"10\")"
   ]
  },
  {
   "cell_type": "markdown",
   "metadata": {},
   "source": [
    "## Zen of Python\n",
    "\n",
    "Run the following code cell by selecting the cell and pressing Shift+Enter.\n"
   ]
  },
  {
   "cell_type": "code",
   "execution_count": null,
   "metadata": {},
   "outputs": [],
   "source": [
    "import this"
   ]
  },
  {
   "cell_type": "markdown",
   "metadata": {},
   "source": [
    "## Hello World\n",
    "\n",
    "Edit the following cell so that it prints `\"Hello, world!\"` when executed."
   ]
  },
  {
   "cell_type": "code",
   "execution_count": null,
   "metadata": {},
   "outputs": [],
   "source": [
    "# write your code here"
   ]
  },
  {
   "cell_type": "markdown",
   "metadata": {},
   "source": [
    "### Fizz, Buzz, FizzBuzz!\n",
    "If we list all of the natural numbers under 41 that are a multiple of 3 or 5, we get\n",
    "\n",
    "```\n",
    " 3,  5,  6,  9, 10, 12, 15,\n",
    "18, 20, 21, 24, 25, 27, 30,\n",
    "33, 35, 36, 39, 40\n",
    "```\n",
    "\n",
    "The sum of these numbers is 408.\n",
    "\n",
    "Immplement a function called `fizzbuzz(n)` and use it to find the sum of all the multiples of 3 or 5 below 1001."
   ]
  },
  {
   "cell_type": "code",
   "execution_count": null,
   "metadata": {},
   "outputs": [],
   "source": [
    "def fizzbuzz(n):\n",
    "    \"\"\"Returns the sum of all numbers < `n` divisible by 3 or 5.\"\"\"\n",
    "    pass\n",
    "\n",
    "fizzbuzz(1001)"
   ]
  },
  {
   "cell_type": "markdown",
   "metadata": {},
   "source": [
    "### Fahrenheit-to-Celsius converter\n",
    "Write a program to convert degrees Fahrenheit to degrees Celcius which (1) takes as argument a number (not necessarily integral) representing the current temperature in degrees Fahrenheit, (2) converts that value into the equivalent degrees Celsius, and (3) **prints** the final equivalent value.\n",
    "\n",
    "For example, your program should be able to emulate the following three sample runs:\n",
    "\n",
    "```\n",
    "Temperature F? 212\n",
    "It is 100.0 degrees Celsius.\n",
    "\n",
    "Temperature F? 98.6\n",
    "It is 37.0 degrees Celsius.\n",
    "\n",
    "Temperature F? 10\n",
    "It is -12.222222222222221 degrees Celsius.\n",
    "```\n",
    "\n",
    "Want to be fancy (challenge)? Try to print the final temperature to two decimal places. *Hint: Take a look at the [`round()`](https://docs.python.org/3.4/library/functions.html#round) function. Isn't Python great?*"
   ]
  },
  {
   "cell_type": "code",
   "execution_count": null,
   "metadata": {},
   "outputs": [],
   "source": [
    "def convert_fahr_to_cels(deg_fahr):\n",
    "    pass"
   ]
  },
  {
   "cell_type": "markdown",
   "metadata": {},
   "source": [
    "## Bonus Challenges\n",
    "\n",
    "Don't worry about getting to these bonus problems. In most cases, bonus questions ask you to think more critically or use more advanced algorithms. "
   ]
  },
  {
   "cell_type": "markdown",
   "metadata": {},
   "source": [
    "### Zen Printing\n",
    "\n",
    "Write a series of instructions using `print()` that, when run, prints out a tic-tac-toe board.\n",
    "\n",
    "````\n",
    " X | . | . \n",
    "-----------\n",
    " . | O | . \n",
    "-----------\n",
    " . | O | X \n",
    "````\n",
    "\n",
    "You may find the optional arguments to `print()` useful, which you can read about [here](https://docs.python.org/3/library/functions.html#print). In no more than five minutes, try to use these optional arguments to print out this particular tic-tac-toe board."
   ]
  },
  {
   "cell_type": "code",
   "execution_count": null,
   "metadata": {},
   "outputs": [],
   "source": [
    "# Print a tic-tac-toe board using optional arguments."
   ]
  },
  {
   "cell_type": "markdown",
   "metadata": {},
   "source": [
    "Maybe you were able to print out the tic-tac-toe board. Maybe not. In the five minutes you've been working on that, I've gotten bored with normal tic-tac-toe (too many ties!) so now, I want to play SUPER tic-tac-toe.\n",
    "\n",
    "Write a program that prints out a SUPER tic-tac-toe board.\n",
    "\n",
    "```\n",
    "  |  |  H  |  |  H  |  |  \n",
    "--+--+--H--+--+--H--+--+--\n",
    "  |  |  H  |  |  H  |  |  \n",
    "--+--+--H--+--+--H--+--+--\n",
    "  |  |  H  |  |  H  |  |  \n",
    "========+========+========\n",
    "  |  |  H  |  |  H  |  |  \n",
    "--+--+--H--+--+--H--+--+--\n",
    "  |  |  H  |  |  H  |  |  \n",
    "--+--+--H--+--+--H--+--+--\n",
    "  |  |  H  |  |  H  |  |  \n",
    "========+========+========\n",
    "  |  |  H  |  |  H  |  |  \n",
    "--+--+--H--+--+--H--+--+--\n",
    "  |  |  H  |  |  H  |  |  \n",
    "--+--+--H--+--+--H--+--+--\n",
    "  |  |  H  |  |  H  |  |  \n",
    "```\n",
    "\n",
    "You'll find that there might be many ways to solve this problem. Which do you think is the most 'pythonic?' Talk to someone next to you about your approach to this problem. Remember the Zen of Python!"
   ]
  },
  {
   "cell_type": "code",
   "execution_count": null,
   "metadata": {},
   "outputs": [],
   "source": [
    "# I want my SUPER tic-tac-toe and I want it now!"
   ]
  },
  {
   "cell_type": "markdown",
   "metadata": {},
   "source": [
    "## Done Early?\n",
    "\n",
    "Read [Python’s Style Guide](https://www.python.org/dev/peps/pep-0008/), keeping the Zen of Python in mind. In what ways do you notice that Python's style guidelines are influence by Python's core philosophy? Some portions of the style guide cover language features that we haven't yet touched on in class - feel free to skip over those sections for now."
   ]
  },
  {
   "cell_type": "markdown",
   "metadata": {},
   "source": [
    "## Printing with format\n",
    "\n",
    "There are three ways of formatting strings in Python"
   ]
  },
  {
   "cell_type": "code",
   "execution_count": 4,
   "metadata": {},
   "outputs": [
    {
     "data": {
      "text/plain": [
       "'Hello James'"
      ]
     },
     "execution_count": 4,
     "metadata": {},
     "output_type": "execute_result"
    }
   ],
   "source": [
    "name = 'James'\n",
    "'Hello %s' %name"
   ]
  },
  {
   "cell_type": "code",
   "execution_count": null,
   "metadata": {},
   "outputs": [],
   "source": [
    "'My name is {1}, {0} {1}'.format('James', 'Bond')"
   ]
  },
  {
   "cell_type": "code",
   "execution_count": 9,
   "metadata": {},
   "outputs": [
    {
     "name": "stdout",
     "output_type": "stream",
     "text": [
      "I am {age} year old\n",
      "I am 21 year old\n"
     ]
    }
   ],
   "source": [
    "age = 21\n",
    "print('I am {age} year old')\n",
    "print(f'I am {age} year old')"
   ]
  },
  {
   "cell_type": "markdown",
   "metadata": {},
   "source": [
    "you can also control the printing, for example if you yan to print the value of Pi with two digits.\n",
    "\n",
    "First, import math. You can access to the value with \n",
    "\n",
    "'>>> math.pi'\n"
   ]
  },
  {
   "cell_type": "code",
   "execution_count": null,
   "metadata": {},
   "outputs": [],
   "source": [
    "print('pi: %f \\nshort pi %0.2f'(math.pi, math.pui))"
   ]
  },
  {
   "cell_type": "markdown",
   "metadata": {},
   "source": [
    "Please, refer to the mini language guide line\n",
    "https://docs.python.org/3/library/string.html#formatspec"
   ]
  },
  {
   "cell_type": "markdown",
   "metadata": {},
   "source": [
    "Write a program to print the sqare root of the parameter of the function such that it prints the parameter with 2 digits and the sqare root with two."
   ]
  },
  {
   "cell_type": "code",
   "execution_count": 10,
   "metadata": {},
   "outputs": [],
   "source": [
    "from math import sqrt\n",
    "\n",
    "def sq_root (n):\n",
    "    pass"
   ]
  },
  {
   "cell_type": "markdown",
   "metadata": {},
   "source": [
    "such that\n",
    "\n",
    "sq_root(26)\n",
    "\n",
    "The square root of 26.00 is 5.099\n"
   ]
  },
  {
   "cell_type": "markdown",
   "metadata": {},
   "source": [
    "## Submitting Labs\n",
    "\n",
    "Alright, you did it! Make sure to convert your lab to a python script (cf. above), and then submit it through Arche."
   ]
  },
  {
   "cell_type": "markdown",
   "metadata": {},
   "source": [
    "*Adapted in part from Stanford CS41 course.*\n",
    "\n",
    "*Credit to ProjectEuler and InterviewCake for some problem ideas.*\n",
    "\n",
    "> With <3 by @sredmond"
   ]
  }
 ],
 "metadata": {
  "kernelspec": {
   "display_name": "Python 3",
   "language": "python",
   "name": "python3"
  },
  "language_info": {
   "codemirror_mode": {
    "name": "ipython",
    "version": 3
   },
   "file_extension": ".py",
   "mimetype": "text/x-python",
   "name": "python",
   "nbconvert_exporter": "python",
   "pygments_lexer": "ipython3",
   "version": "3.6.10"
  }
 },
 "nbformat": 4,
 "nbformat_minor": 2
}
